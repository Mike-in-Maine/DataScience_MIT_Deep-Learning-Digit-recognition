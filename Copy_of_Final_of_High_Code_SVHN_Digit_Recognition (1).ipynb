{
  "cells": [
    {
      "cell_type": "markdown",
      "metadata": {
        "id": "Q91KqmCRu64D"
      },
      "source": [
        "# **Deep Learning Project: Street View Housing Number Digit Recognition**\n",
        "\n",
        "# **Marks: 60**\n",
        "\n",
        "--------------\n",
        "## **Context**\n",
        "--------------\n",
        "\n",
        "One of the most interesting tasks in deep learning is to recognize objects in natural scenes. The ability to process visual information using machine learning algorithms can be very useful as demonstrated in various applications.\n",
        "\n",
        "The SVHN dataset contains over 600,000 labeled digits cropped from street-level photos. It is one of the most popular image recognition datasets. It has been used in neural networks created by Google to improve the map quality by automatically transcribing the address numbers from a patch of pixels. The transcribed number with a known street address helps pinpoint the location of the building it represents.\n",
        "\n",
        "----------------\n",
        "## **Objective**\n",
        "----------------\n",
        "\n",
        "Our objective is to predict the number depicted inside the image by using Artificial or Fully Connected Feed Forward Neural Networks and Convolutional Neural Networks. We will go through various models of each and finally select the one that is giving us the best performance.\n",
        "\n",
        "-------------\n",
        "## **Dataset**\n",
        "-------------\n",
        "Here, we will use a subset of the original data to save some computation time. The dataset is provided as a .h5 file. The basic preprocessing steps have been applied on the dataset."
      ]
    },
    {
      "cell_type": "markdown",
      "metadata": {
        "id": "8z2Z7-OAs8QG"
      },
      "source": [
        "## **Mount the drive**\n",
        "\n",
        "Let us start by mounting the Google drive. You can run the below cell to mount the Google drive."
      ]
    },
    {
      "cell_type": "code",
      "execution_count": null,
      "metadata": {
        "id": "03lDyQUuef7z",
        "colab": {
          "base_uri": "https://localhost:8080/"
        },
        "outputId": "6a58a4a4-39d3-4004-8f09-c1dd60507461"
      },
      "outputs": [
        {
          "output_type": "stream",
          "name": "stdout",
          "text": [
            "Mounted at /content/drive\n"
          ]
        }
      ],
      "source": [
        "# Mounting Google Colab drive\n",
        "\n",
        "from google.colab import drive\n",
        "drive.mount('/content/drive')\n"
      ]
    },
    {
      "cell_type": "markdown",
      "metadata": {
        "id": "C8U3DUa3eNsT"
      },
      "source": [
        "## **Importing the necessary libraries**"
      ]
    },
    {
      "cell_type": "code",
      "execution_count": null,
      "metadata": {
        "id": "-dVzeuF3eQx1"
      },
      "outputs": [],
      "source": [
        "import random\n",
        "\n",
        "import numpy as np\n",
        "\n",
        "import pandas as pd\n",
        "\n",
        "import matplotlib.pyplot as plt\n",
        "\n",
        "import seaborn as sns\n",
        "\n",
        "from sklearn.model_selection import train_test_split\n",
        "\n",
        "from sklearn.preprocessing import MinMaxScaler\n",
        "\n",
        "from sklearn.metrics import classification_report\n",
        "\n",
        "from sklearn.metrics import confusion_matrix\n",
        "\n",
        "import tensorflow as tf\n",
        "\n",
        "from tensorflow.keras.models import Sequential\n",
        "\n",
        "from tensorflow.keras.layers import Dense, Dropout, Activation, BatchNormalization\n",
        "\n",
        "from tensorflow.keras.losses import categorical_crossentropy\n",
        "\n",
        "from tensorflow.keras.optimizers import Adam\n",
        "\n",
        "from tensorflow.keras.utils import to_categorical\n",
        "\n",
        "from tensorflow.keras import backend\n",
        "\n",
        "backend.clear_session()"
      ]
    },
    {
      "cell_type": "markdown",
      "metadata": {
        "id": "ucnevGLoyKf_"
      },
      "source": [
        "**Let us check the version of tensorflow.**"
      ]
    },
    {
      "cell_type": "code",
      "execution_count": null,
      "metadata": {
        "id": "W5as47YxyJVk",
        "colab": {
          "base_uri": "https://localhost:8080/"
        },
        "outputId": "7e1df379-ad4b-49e6-98d7-5e970e51946b"
      },
      "outputs": [
        {
          "output_type": "stream",
          "name": "stdout",
          "text": [
            "2.12.0\n"
          ]
        }
      ],
      "source": [
        "print(tf.__version__)"
      ]
    },
    {
      "cell_type": "markdown",
      "metadata": {
        "id": "8lsux2ZwyTTR"
      },
      "source": [
        "## **Load the dataset**\n",
        "\n",
        "- Let us now load the dataset that is available as a .h5 file.\n",
        "- Split the data into the train and the test dataset."
      ]
    },
    {
      "cell_type": "code",
      "execution_count": null,
      "metadata": {
        "id": "BApX9qgNsqV0",
        "scrolled": true,
        "colab": {
          "base_uri": "https://localhost:8080/"
        },
        "outputId": "ace21dbc-d3da-42dd-ff09-a5d1092735cc"
      },
      "outputs": [
        {
          "output_type": "stream",
          "name": "stdout",
          "text": [
            "['X_test', 'X_train', 'X_val', 'y_test', 'y_train', 'y_val']\n"
          ]
        }
      ],
      "source": [
        "import h5py #This is the python library that opens the HDF5 files\n",
        "file_path = '/content/drive/MyDrive/MIT/elective_project/SVHN_single_grey1.h5'\n",
        "\n",
        "with h5py.File(file_path, 'r') as f:\n",
        "    # This will print the keys at the root level (as a list), a little peak inside to see how the dataset is setup.\n",
        "    # The keys will be the equivalent of pandas columns\n",
        "    print(list(f.keys()))\n",
        "    X_train = f['X_train'][:]\n",
        "    y_train = f['y_train'][:]\n",
        "    X_test = f['X_test'][:]\n",
        "    y_test = f['y_test'][:]\n"
      ]
    },
    {
      "cell_type": "markdown",
      "metadata": {
        "id": "hVe0CYpUgj7w"
      },
      "source": [
        "Check the number of images in the training and the testing dataset."
      ]
    },
    {
      "cell_type": "code",
      "execution_count": null,
      "metadata": {
        "id": "y3lwKpOefkpA",
        "colab": {
          "base_uri": "https://localhost:8080/"
        },
        "outputId": "14d21870-c4be-46ae-d0aa-a5c46e6a9a3b"
      },
      "outputs": [
        {
          "output_type": "execute_result",
          "data": {
            "text/plain": [
              "(42000, 18000)"
            ]
          },
          "metadata": {},
          "execution_count": 5
        }
      ],
      "source": [
        "len(X_train), len(X_test)\n",
        "\n",
        "# This is not required for now, but we can look inside the X_train set and see what is inside the first set.\n",
        "#print(X_train[0])\n",
        "#print(len(X_train[0]))\n",
        "# We discovered that each image is a 32x32 pixel image in a form of a np matrix."
      ]
    },
    {
      "cell_type": "markdown",
      "metadata": {
        "id": "akTUOfLlgwoM"
      },
      "source": [
        "**Observation:**\n",
        "There are 42,000 images in the Training set and 18,000 images in the Testing set. Each image is a matrix of numbers, which in turn contains the vales of the individual pixels."
      ]
    },
    {
      "cell_type": "markdown",
      "metadata": {
        "id": "kxODV6HKykuc"
      },
      "source": [
        "## **Visualizing images**\n",
        "\n",
        "- Use X_train to visualize the first 10 images.\n",
        "- Use Y_train to print the first 10 labels."
      ]
    },
    {
      "cell_type": "code",
      "execution_count": null,
      "metadata": {
        "id": "Bvsc8ytHsqWD",
        "colab": {
          "base_uri": "https://localhost:8080/",
          "height": 120
        },
        "outputId": "33ab643c-3f99-4196-f2c6-42cb0aeeaa26"
      },
      "outputs": [
        {
          "output_type": "display_data",
          "data": {
            "text/plain": [
              "<Figure size 1000x100 with 10 Axes>"
            ],
            "image/png": "[encoded data removed]"
          },
          "metadata": {}
        }
      ],
      "source": [
        "#Since the images are in the form of a matrix, we can use the handy function from Matplotlib called \"figure\".\n",
        "#It creates a blank canvas in which the individual pixes are plotted.\n",
        "plt.figure(figsize = (10, 1))\n",
        "\n",
        "#We iterate through the first 10 images (matrices).\n",
        "for i in range(10):\n",
        "\n",
        "    # iterates through the subplot, 1 number of rows, 10 numer of columns and iterator for individual images.\n",
        "    plt.subplot(1, 10, i+1)\n",
        "\n",
        "    # We insert each image into the canvas we created and show it with a contrast color map called \"gray'.\n",
        "    # Note: these are not real colors in the image, but only to signify the difference between the numbers of the matrix.\n",
        "    plt.imshow(X_train[i], cmap='gray')\n",
        "\n",
        "    # Let's turn the labels and the axis off since they will be in the way of seeing the image as it is.\n",
        "    plt.axis('off')\n",
        "\n",
        "    # We can show the labels from Y_train set for each number\n",
        "    plt.text(15, 40, f'Number {y_train[i]}', ha='center', va='bottom', color='black', fontsize=8)\n",
        "# Plots the result of the for loop.\n",
        "plt.show()\n"
      ]
    },
    {
      "cell_type": "markdown",
      "metadata": {
        "id": "kzoyeXHOy80N"
      },
      "source": [
        "## **Data preparation**\n",
        "\n",
        "- Print the shape and the array of pixels for the first image in the training dataset.\n",
        "- Normalize the train and the test dataset by dividing by 255.\n",
        "- Print the new shapes of the train and the test dataset.\n",
        "- One-hot encode the target variable."
      ]
    },
    {
      "cell_type": "markdown",
      "metadata": {
        "id": "YSlYN6pb8kMY"
      },
      "source": [
        "Print the shapes of Training and Test data"
      ]
    },
    {
      "cell_type": "code",
      "execution_count": null,
      "metadata": {
        "id": "NqndzQXng9rL",
        "colab": {
          "base_uri": "https://localhost:8080/"
        },
        "outputId": "ab80e437-bc29-468d-c5c8-2ed7c3c49e67"
      },
      "outputs": [
        {
          "output_type": "stream",
          "name": "stdout",
          "text": [
            "Shape: (32, 32)\n"
          ]
        }
      ],
      "source": [
        "# Prints the shape of the first dataset which is 32 pixels by 32 pixels, hence a matrix of 1024 total pixels.\n",
        "# If the image was in color RGB, each \"channel\" will have its own matrix of 32x32 pixels, making the calculations a lot more cumbersome.\n",
        "# Let's stick with black and white pitures (grayscale with 255 graduation of gray with 0 being black and 255 white)\n",
        "print(\"Shape:\", X_train[0].shape)"
      ]
    },
    {
      "cell_type": "code",
      "source": [
        "# Let's take a look at the first image set in terms of numerical matrix.\n",
        "print(\"First image:\\n\", X_train[0])"
      ],
      "metadata": {
        "colab": {
          "base_uri": "https://localhost:8080/"
        },
        "id": "F9-QHNYpFfU0",
        "outputId": "9be12a24-6d6d-4b8d-d95c-0797eeca9d18"
      },
      "execution_count": null,
      "outputs": [
        {
          "output_type": "stream",
          "name": "stdout",
          "text": [
            "First image:\n",
            " [[ 33.0704  30.2601  26.852  ...  71.4471  58.2204  42.9939]\n",
            " [ 25.2283  25.5533  29.9765 ... 113.0209 103.3639  84.2949]\n",
            " [ 26.2775  22.6137  40.4763 ... 113.3028 121.775  115.4228]\n",
            " ...\n",
            " [ 28.5502  36.212   45.0801 ...  24.1359  25.0927  26.0603]\n",
            " [ 38.4352  26.4733  23.2717 ...  28.1094  29.4683  30.0661]\n",
            " [ 50.2984  26.0773  24.0389 ...  49.6682  50.853   53.0377]]\n"
          ]
        }
      ]
    },
    {
      "cell_type": "code",
      "execution_count": null,
      "metadata": {
        "id": "q_yUUTp_mUzB"
      },
      "outputs": [],
      "source": [
        "# Flattens the dataset by using reshaping fom numpy into 1D array without changing the data. Just the shape.\n",
        "X_train = X_train.reshape(X_train.shape[0], 1024)\n",
        "\n",
        "X_test = X_test.reshape(X_test.shape[0], 1024)"
      ]
    },
    {
      "cell_type": "code",
      "execution_count": null,
      "metadata": {
        "id": "t7FSqOpamWkH",
        "colab": {
          "base_uri": "https://localhost:8080/"
        },
        "outputId": "48af6f3f-b96d-4a8a-c2d0-4e4d5c93b69f"
      },
      "outputs": [
        {
          "output_type": "stream",
          "name": "stdout",
          "text": [
            "Train data shape set: (42000, 1024) (42000,)\n",
            "Test data shape: (18000, 1024) (18000,)\n"
          ]
        }
      ],
      "source": [
        "# Prints the shape of the Training and Test data sets.\n",
        "print(\"Train data shape set:\", X_train.shape, y_train.shape)\n",
        "print(\"Test data shape:\", X_test.shape, y_test.shape)"
      ]
    },
    {
      "cell_type": "markdown",
      "metadata": {
        "id": "f4CQkKtQ0XII"
      },
      "source": [
        "### **Normalize the train and the test data**"
      ]
    },
    {
      "cell_type": "code",
      "source": [
        "# Normalizing data means fitting all data in a 0-1 interval in our case.\n",
        "# Normalized Value= Max Value/Original Value\n",
        "\n",
        "# Normalize reshaped training data\n",
        "X_train_normalized = X_train / 255.0\n",
        "\n",
        "# Normalize reshaped testing data\n",
        "X_test_normalized = X_test / 255.0"
      ],
      "metadata": {
        "id": "34njaBd3tqLH"
      },
      "execution_count": null,
      "outputs": []
    },
    {
      "cell_type": "markdown",
      "metadata": {
        "id": "0uLxXBpz81vk"
      },
      "source": [
        "### **One-hot encode output**"
      ]
    },
    {
      "cell_type": "code",
      "execution_count": null,
      "metadata": {
        "id": "zL0lYER4sqWw"
      },
      "outputs": [],
      "source": [
        "# This part turns the categorical values into a matrix so that it can be used in a context of comparing and pairing it to the other matrices contained in X_train which are all pictures.\n",
        "\n",
        "y_train = to_categorical(y_train)\n",
        "\n",
        "y_test = to_categorical(y_test)"
      ]
    },
    {
      "cell_type": "code",
      "source": [
        "# Prints the list of all the labels in a one-hot encoded format which is a list of matrices.\n",
        "\n",
        "print(y_test)"
      ],
      "metadata": {
        "colab": {
          "base_uri": "https://localhost:8080/"
        },
        "id": "p_QvQszvAIWv",
        "outputId": "b9c9ef3f-ea1b-47ab-8804-72bbf323f2e6"
      },
      "execution_count": null,
      "outputs": [
        {
          "output_type": "stream",
          "name": "stdout",
          "text": [
            "[[0. 1. 0. ... 0. 0. 0.]\n",
            " [0. 0. 0. ... 1. 0. 0.]\n",
            " [0. 0. 1. ... 0. 0. 0.]\n",
            " ...\n",
            " [0. 0. 0. ... 1. 0. 0.]\n",
            " [0. 0. 0. ... 0. 0. 1.]\n",
            " [0. 0. 1. ... 0. 0. 0.]]\n"
          ]
        }
      ]
    },
    {
      "cell_type": "markdown",
      "metadata": {
        "id": "ViqPOTquCF76"
      },
      "source": [
        "**Observation:**\n",
        "To be noted that if we want to see the first element of the list, it will show an interesting set:\n",
        "\n",
        "print(y_test[0])\n",
        "\n",
        "[0,1,0,0,0,0,0,0,0,0] <--- this means, that the label has been \"hot-encoded\" for the number 2 (second element has a 1), which is also the number corresponding in our X_train.\n",
        "So the labels are corresponding the correct images."
      ]
    },
    {
      "cell_type": "markdown",
      "metadata": {
        "id": "yH-gVrzuByNA"
      },
      "source": [
        "## **Model Building**\n",
        "\n",
        "Now that we have done the data preprocessing, let's build an ANN model.\n",
        "\n",
        "### Fix the seed for random number generators"
      ]
    },
    {
      "cell_type": "code",
      "execution_count": null,
      "metadata": {
        "id": "BcKRwrGn0XIL"
      },
      "outputs": [],
      "source": [
        "# Let's set up a seed of 42 for now and see if it works well. We need to set it up the same in all random generators in order to maintain reproducibility.\n",
        "# Fun fact:\n",
        "# The use of the seed \"42\" is more of a convention and cultural reference within the programming and data science community rather than a strict requirement.\n",
        "# It has become a sort of \"magic number\" that people use when setting random seeds in their code. The choice of \"42\" is a nod to Douglas Adams' science fiction series\n",
        "# \"The Hitchhiker's Guide to the Galaxy,\" where the number 42 is famously described as the \"Answer to the Ultimate Question of Life, the Universe, and Everything.\"\n",
        "\n",
        "# In NumPy\n",
        "np.random.seed(42)\n",
        "\n",
        "# In the generic python funcion\n",
        "random.seed(42)\n",
        "\n",
        "# And TensorFlow\n",
        "tf.random.set_seed(42)\n",
        "\n",
        "# I also set up a function for seed selection here so I can reuse it later.\n",
        "# It does the same thing but I can call it with one line of code to reuse it.\n",
        "\n",
        "def seed_setup():\n",
        "  np.random.seed(42)\n",
        "  random.seed(42)\n",
        "  tf.random.set_seed(42)\n"
      ]
    },
    {
      "cell_type": "markdown",
      "metadata": {
        "id": "UJDUoaEj1d6e"
      },
      "source": [
        "### **Model Architecture**\n",
        "- Write a function that returns a sequential model with the following architecture:\n",
        " - First hidden layer with **64 nodes and the relu activation** and the **input shape = (1024, )**\n",
        " - Second hidden layer with **32 nodes and the relu activation**\n",
        " - Output layer with **activation as 'softmax' and number of nodes equal to the number of classes, i.e., 10**\n",
        " - Compile the model with the **loss equal to categorical_crossentropy, optimizer equal to Adam(learning_rate = 0.001), and metric equal to 'accuracy'**. Do not fit the model here, just return the compiled model.\n",
        "- Call the nn_model_1 function and store the model in a new variable.\n",
        "- Print the summary of the model.\n",
        "- Fit on the train data with a **validation split of 0.2, batch size = 128, verbose = 1, and epochs = 20**. Store the model building history to use later for visualization."
      ]
    },
    {
      "cell_type": "markdown",
      "metadata": {
        "id": "A48z6ucF0XIP"
      },
      "source": [
        "### **Build and train an ANN model as per the above mentioned architecture.**"
      ]
    },
    {
      "cell_type": "code",
      "execution_count": null,
      "metadata": {
        "id": "Cmi81Gr5sqW-",
        "colab": {
          "base_uri": "https://localhost:8080/"
        },
        "outputId": "d1b00ea6-c1c8-4513-a9b3-4ae43e05c32f"
      },
      "outputs": [
        {
          "output_type": "stream",
          "name": "stdout",
          "text": [
            "Model: \"sequential\"\n",
            "_________________________________________________________________\n",
            " Layer (type)                Output Shape              Param #   \n",
            "=================================================================\n",
            " dense (Dense)               (None, 64)                65600     \n",
            "                                                                 \n",
            " dense_1 (Dense)             (None, 32)                2080      \n",
            "                                                                 \n",
            " dense_2 (Dense)             (None, 10)                330       \n",
            "                                                                 \n",
            "=================================================================\n",
            "Total params: 68,010\n",
            "Trainable params: 68,010\n",
            "Non-trainable params: 0\n",
            "_________________________________________________________________\n",
            "Epoch 1/20\n",
            "263/263 [==============================] - 3s 8ms/step - loss: 2.2934 - accuracy: 0.1233 - val_loss: 2.2324 - val_accuracy: 0.1744\n",
            "Epoch 2/20\n",
            "263/263 [==============================] - 2s 6ms/step - loss: 2.0774 - accuracy: 0.2509 - val_loss: 1.9318 - val_accuracy: 0.3089\n",
            "Epoch 3/20\n",
            "263/263 [==============================] - 2s 9ms/step - loss: 1.8679 - accuracy: 0.3405 - val_loss: 1.7779 - val_accuracy: 0.3869\n",
            "Epoch 4/20\n",
            "263/263 [==============================] - 2s 8ms/step - loss: 1.6573 - accuracy: 0.4391 - val_loss: 1.5288 - val_accuracy: 0.4907\n",
            "Epoch 5/20\n",
            "263/263 [==============================] - 2s 9ms/step - loss: 1.4635 - accuracy: 0.5180 - val_loss: 1.4202 - val_accuracy: 0.5255\n",
            "Epoch 6/20\n",
            "263/263 [==============================] - 2s 8ms/step - loss: 1.3588 - accuracy: 0.5568 - val_loss: 1.3240 - val_accuracy: 0.5768\n",
            "Epoch 7/20\n",
            "263/263 [==============================] - 2s 9ms/step - loss: 1.2895 - accuracy: 0.5839 - val_loss: 1.2558 - val_accuracy: 0.6013\n",
            "Epoch 8/20\n",
            "263/263 [==============================] - 2s 8ms/step - loss: 1.2375 - accuracy: 0.6044 - val_loss: 1.2217 - val_accuracy: 0.6221\n",
            "Epoch 9/20\n",
            "263/263 [==============================] - 1s 6ms/step - loss: 1.1990 - accuracy: 0.6206 - val_loss: 1.1674 - val_accuracy: 0.6330\n",
            "Epoch 10/20\n",
            "263/263 [==============================] - 2s 6ms/step - loss: 1.1666 - accuracy: 0.6334 - val_loss: 1.1484 - val_accuracy: 0.6420\n",
            "Epoch 11/20\n",
            "263/263 [==============================] - 1s 6ms/step - loss: 1.1465 - accuracy: 0.6399 - val_loss: 1.1256 - val_accuracy: 0.6462\n",
            "Epoch 12/20\n",
            "263/263 [==============================] - 1s 6ms/step - loss: 1.1239 - accuracy: 0.6485 - val_loss: 1.1110 - val_accuracy: 0.6533\n",
            "Epoch 13/20\n",
            "263/263 [==============================] - 1s 5ms/step - loss: 1.1017 - accuracy: 0.6589 - val_loss: 1.0951 - val_accuracy: 0.6612\n",
            "Epoch 14/20\n",
            "263/263 [==============================] - 2s 6ms/step - loss: 1.0981 - accuracy: 0.6596 - val_loss: 1.0940 - val_accuracy: 0.6620\n",
            "Epoch 15/20\n",
            "263/263 [==============================] - 2s 8ms/step - loss: 1.0854 - accuracy: 0.6636 - val_loss: 1.0948 - val_accuracy: 0.6650\n",
            "Epoch 16/20\n",
            "263/263 [==============================] - 2s 8ms/step - loss: 1.0715 - accuracy: 0.6682 - val_loss: 1.1295 - val_accuracy: 0.6475\n",
            "Epoch 17/20\n",
            "263/263 [==============================] - 2s 8ms/step - loss: 1.0626 - accuracy: 0.6713 - val_loss: 1.0618 - val_accuracy: 0.6744\n",
            "Epoch 18/20\n",
            "263/263 [==============================] - 2s 9ms/step - loss: 1.0535 - accuracy: 0.6746 - val_loss: 1.0626 - val_accuracy: 0.6702\n",
            "Epoch 19/20\n",
            "263/263 [==============================] - 2s 9ms/step - loss: 1.0486 - accuracy: 0.6745 - val_loss: 1.0610 - val_accuracy: 0.6736\n",
            "Epoch 20/20\n",
            "263/263 [==============================] - 2s 9ms/step - loss: 1.0420 - accuracy: 0.6770 - val_loss: 1.0535 - val_accuracy: 0.6745\n"
          ]
        }
      ],
      "source": [
        "input_shape = 1024 # the 32x32 images\n",
        "num_classes = 10 # how many different categories of images we have (1,2,3,4,5,6,7,8,9,0)\n",
        "\n",
        "def nn_model_1(input_shape, num_classes):\n",
        "    # Creates a Sequential Model. It is a simple model in which there is one tensor as input and one as output\n",
        "    model = Sequential()\n",
        "\n",
        "    # First hidden layer with 64 nodes and ReLU activation as requested.\n",
        "    model.add(Dense(64, activation='relu', input_shape=(input_shape,)))\n",
        "\n",
        "    # Second hidden layer with 32 nodes and ReLU activation again.\n",
        "    model.add(Dense(32, activation='relu'))\n",
        "\n",
        "    # Output layer with 'softmax' activation and number of nodes equal to the number of classes\n",
        "    model.add(Dense(num_classes, activation='softmax'))\n",
        "\n",
        "    # Compiles the model using categorical crossentropy whch is a commonly used loss function for multi-class classification problems\n",
        "    # where each sample belongs to exactly one class out of two or more classes, like in our case.\n",
        "    model.compile(loss='categorical_crossentropy',\n",
        "                  optimizer=Adam(learning_rate=0.001),\n",
        "                  metrics=['accuracy'])\n",
        "\n",
        "    return model\n",
        "\n",
        "# Creates the model\n",
        "model = nn_model_1(input_shape, num_classes)\n",
        "\n",
        "# Prints the summary of the model\n",
        "model.summary()\n",
        "\n",
        "# Fits the model on the train data with a validation split of 0.2\n",
        "history = model.fit(X_train_normalized, y_train,\n",
        "                    validation_split=0.2,\n",
        "                    batch_size=128,\n",
        "                    verbose=1,\n",
        "                    epochs=20)"
      ]
    },
    {
      "cell_type": "markdown",
      "metadata": {
        "id": "MeF8XSWz0XIU"
      },
      "source": [
        "### **Plot the Training and Validation Accuracies and write down your Observations.**"
      ]
    },
    {
      "cell_type": "code",
      "execution_count": null,
      "metadata": {
        "id": "lt77zgGMP4yw",
        "colab": {
          "base_uri": "https://localhost:8080/",
          "height": 697
        },
        "outputId": "71b76fc7-1bea-416b-b288-553ade0ba84f"
      },
      "outputs": [
        {
          "output_type": "display_data",
          "data": {
            "text/plain": [
              "<Figure size 800x800 with 1 Axes>"
            ],
            "image/png": "[encoded data removed]"
          },
          "metadata": {}
        }
      ],
      "source": [
        "# Plotting the accuracies together.\n",
        "\n",
        "# Extracts the training history from a Keras model and stores it in a dictionary. This is useful since dictionaries in python are pairs\n",
        "# of key-values, just like the project we are working on.\n",
        "dict_hist = history.history\n",
        "\n",
        "# Creates a list of all Epochs\n",
        "list_ep = [i for i in range(1, 21)]\n",
        "\n",
        "# Creates a space to plot the graph in MatPlotLib\n",
        "plt.figure(figsize = (8, 8))\n",
        "\n",
        "# Plots the first line Accuracy in Blue\n",
        "plt.plot(list_ep, dict_hist['accuracy'], ls = '--', label = 'Accuracy')\n",
        "\n",
        "# Plots the second line Validation Accuracy in Yellow\n",
        "plt.plot(list_ep, dict_hist['val_accuracy'], ls = '--', label = 'Validation Accuracy')\n",
        "\n",
        "# Sets the label for axis Y\n",
        "plt.ylabel('Accuracy')\n",
        "\n",
        "# Sets the label for axis X\n",
        "plt.xlabel('Epochs')\n",
        "\n",
        "# Sets the legend for the graph\n",
        "plt.legend()\n",
        "\n",
        "# Plots the actual graph on the screen.\n",
        "plt.show()"
      ]
    },
    {
      "cell_type": "markdown",
      "metadata": {
        "id": "pGBbQpLONX7k"
      },
      "source": [
        "**Observations:**\n",
        "\n",
        "**1. Initial Training (Epochs 1-4):**\n",
        "\n",
        "Smooth Increase with a Gap: A smooth and parallel increase in both accuracy and validation accuracy suggests that at first the model is learning well from the training data. The gap between them indicates that the model is not overfitting to the training data, as the validation accuracy is slightly different than the training accuracy.\n",
        "\n",
        "\n",
        "**2. Plateau (Epochs 5-14):**\n",
        "\n",
        "Turning and Plateauing: However the turning and plateauing of both lines suggest that the model is encountering some difficulty in learning beyond a certain point. The fact that the validation accuracy is higher than the training accuracy (around Epoch 6) could indicate that the model is generalizing well to unseen data, which is positive.\n",
        "\n",
        "Accuracy around 0.6: An accuracy of 0.5 -0.65 suggests that the model is performing at almost chance level, indicating that it's struggling to learn patterns from the data. This might be due to issues such as insufficient model complexity, inadequate training data, or suboptimal hyperparameters.\n",
        "\n",
        "\n",
        "**3. Sudden Fragmentation and Convergence (Epochs 15-20):**\n",
        "\n",
        "Fragmentation of Validation Accuracy: The sudden fragmentation in the validation accuracy line around Epoch 15 could indicate that the model started to overfit the training data or that there might be some noise in the validation set.\n",
        "\n",
        "Intersection and Convergence: The intersection of the two lines followed by convergence suggests that the model might have corrected some issues that were causing overfitting. However, the fact that they join and become one line could indicate that the model is now fitting the training data too closely, potentially leading to overfitting.\n",
        "\n",
        "\n",
        "\n",
        "**Possible Improvements and Pitfalls:**\n",
        "**Early Stopping:** It might be useful consider early stopping to prevent overfitting. This involves monitoring the validation performance and stopping training when it starts to degrade. However in our case the model will only have accuracy around 0.62, which is almost a chance accuracy so early stopping will not improve accuracy.\n",
        "\n",
        "\n",
        "\n",
        "**Model Complexity:** Adjusting the complexity of the model. If it's too simple, it might struggle to capture the underlying patterns in the data. If it's too complex, it might overfit. Maybe more testing in this area would benefit the hypothesis that the model can perform better.\n",
        "\n",
        "\n",
        "**Data Quality:** It is useful to ensure that the training and validation datasets are representative and free from noise.\n",
        "\n",
        "\n",
        "**Hyperparameter Tuning:** Experimenting with different hyperparameter settings, such as learning rates and regularization, to find optimal values for the specific problem could make the model better.\n",
        "\n",
        "\n",
        "In summary, while at the start the training looks promising, the plateauing and subsequent convergence with a sudden drop in validation accuracy suggest that the model might benefit from adjustments to prevent overfitting and improve its ability to generalize to unseen data. I would suggest to consider experimenting with the suggested improvements to fine-tune the model if not replacing the model entirely and focus on a different approach. Let's reject this model for now and see if we can change things a little.\n",
        "\n"
      ]
    },
    {
      "cell_type": "markdown",
      "metadata": {
        "id": "z0qgLMBZm5-K"
      },
      "source": [
        "Let's build one more model with higher complexity and see if we can improve the performance of the model.\n",
        "\n",
        "First, we need to clear the previous model's history from the Keras backend. Also, let's fix the seed again after clearing the backend."
      ]
    },
    {
      "cell_type": "code",
      "execution_count": null,
      "metadata": {
        "id": "I_ih3wEU9wIk"
      },
      "outputs": [],
      "source": [
        "# Clearing the backend in Keras\n",
        "backend.clear_session()\n",
        "\n",
        "#Calling our handy function to reset the seed\n",
        "seed_setup()\n"
      ]
    },
    {
      "cell_type": "markdown",
      "metadata": {
        "id": "lT6o3TIKuCtk"
      },
      "source": [
        "### **Second Model Architecture**\n",
        "- Write a function that returns a sequential model with the following architecture:\n",
        " - First hidden layer with **256 nodes and the relu activation** and the **input shape = (1024, )**\n",
        " - Second hidden layer with **128 nodes and the relu activation**\n",
        " - Add the **Dropout layer with the rate equal to 0.2**\n",
        " - Third hidden layer with **64 nodes and the relu activation**\n",
        " - Fourth hidden layer with **64 nodes and the relu activation**\n",
        " - Fifth hidden layer with **32 nodes and the relu activation**\n",
        " - Add the **BatchNormalization layer**\n",
        " - Output layer with **activation as 'softmax' and number of nodes equal to the number of classes, i.e., 10**\n",
        " -Compile the model with the **loss equal to categorical_crossentropy, optimizer equal to Adam(learning_rate = 0.0005), and metric equal to 'accuracy'**. Do not fit the model here, just return the compiled model.\n",
        "- Call the nn_model_2 function and store the model in a new variable.\n",
        "- Print the summary of the model.\n",
        "- Fit on the train data with a **validation split of 0.2, batch size = 128, verbose = 1, and epochs = 30**. Store the model building history to use later for visualization."
      ]
    },
    {
      "cell_type": "markdown",
      "metadata": {
        "id": "f-ZjNBmH0XIV"
      },
      "source": [
        "### **Build and train the new ANN model as per the above mentioned architecture**"
      ]
    },
    {
      "cell_type": "code",
      "execution_count": null,
      "metadata": {
        "id": "EEPYLFIPnSDP",
        "colab": {
          "base_uri": "https://localhost:8080/"
        },
        "outputId": "82464ec5-b192-4b55-fb79-76f339ccf816"
      },
      "outputs": [
        {
          "output_type": "stream",
          "name": "stdout",
          "text": [
            "Model: \"sequential\"\n",
            "_________________________________________________________________\n",
            " Layer (type)                Output Shape              Param #   \n",
            "=================================================================\n",
            " dense (Dense)               (None, 256)               262400    \n",
            "                                                                 \n",
            " dense_1 (Dense)             (None, 128)               32896     \n",
            "                                                                 \n",
            " dropout (Dropout)           (None, 128)               0         \n",
            "                                                                 \n",
            " dense_2 (Dense)             (None, 64)                8256      \n",
            "                                                                 \n",
            " dense_3 (Dense)             (None, 64)                4160      \n",
            "                                                                 \n",
            " dense_4 (Dense)             (None, 32)                2080      \n",
            "                                                                 \n",
            " batch_normalization (BatchN  (None, 32)               128       \n",
            " ormalization)                                                   \n",
            "                                                                 \n",
            " dense_5 (Dense)             (None, 10)                330       \n",
            "                                                                 \n",
            "=================================================================\n",
            "Total params: 310,250\n",
            "Trainable params: 310,186\n",
            "Non-trainable params: 64\n",
            "_________________________________________________________________\n",
            "Epoch 1/30\n",
            "263/263 [==============================] - 6s 18ms/step - loss: 2.3301 - accuracy: 0.1020 - val_loss: 2.3126 - val_accuracy: 0.0969\n",
            "Epoch 2/30\n",
            "263/263 [==============================] - 5s 19ms/step - loss: 2.3040 - accuracy: 0.1043 - val_loss: 2.3018 - val_accuracy: 0.1049\n",
            "Epoch 3/30\n",
            "263/263 [==============================] - 5s 19ms/step - loss: 2.1035 - accuracy: 0.2029 - val_loss: 1.9555 - val_accuracy: 0.2789\n",
            "Epoch 4/30\n",
            "263/263 [==============================] - 3s 12ms/step - loss: 1.6221 - accuracy: 0.4240 - val_loss: 1.5954 - val_accuracy: 0.4607\n",
            "Epoch 5/30\n",
            "263/263 [==============================] - 3s 12ms/step - loss: 1.3656 - accuracy: 0.5424 - val_loss: 1.2720 - val_accuracy: 0.5899\n",
            "Epoch 6/30\n",
            "263/263 [==============================] - 3s 13ms/step - loss: 1.1958 - accuracy: 0.6150 - val_loss: 1.1094 - val_accuracy: 0.6462\n",
            "Epoch 7/30\n",
            "263/263 [==============================] - 5s 19ms/step - loss: 1.1250 - accuracy: 0.6400 - val_loss: 1.0664 - val_accuracy: 0.6543\n",
            "Epoch 8/30\n",
            "263/263 [==============================] - 5s 19ms/step - loss: 1.0609 - accuracy: 0.6599 - val_loss: 1.0290 - val_accuracy: 0.6744\n",
            "Epoch 9/30\n",
            "263/263 [==============================] - 4s 16ms/step - loss: 1.0168 - accuracy: 0.6772 - val_loss: 0.9769 - val_accuracy: 0.6899\n",
            "Epoch 10/30\n",
            "263/263 [==============================] - 3s 12ms/step - loss: 0.9841 - accuracy: 0.6875 - val_loss: 0.9503 - val_accuracy: 0.7006\n",
            "Epoch 11/30\n",
            "263/263 [==============================] - 3s 12ms/step - loss: 0.9636 - accuracy: 0.6936 - val_loss: 0.9347 - val_accuracy: 0.7062\n",
            "Epoch 12/30\n",
            "263/263 [==============================] - 4s 15ms/step - loss: 0.9301 - accuracy: 0.7054 - val_loss: 0.9375 - val_accuracy: 0.7033\n",
            "Epoch 13/30\n",
            "263/263 [==============================] - 5s 19ms/step - loss: 0.9034 - accuracy: 0.7145 - val_loss: 0.9450 - val_accuracy: 0.6981\n",
            "Epoch 14/30\n",
            "263/263 [==============================] - 5s 19ms/step - loss: 0.8967 - accuracy: 0.7169 - val_loss: 0.8675 - val_accuracy: 0.7287\n",
            "Epoch 15/30\n",
            "263/263 [==============================] - 3s 13ms/step - loss: 0.8766 - accuracy: 0.7224 - val_loss: 0.8910 - val_accuracy: 0.7164\n",
            "Epoch 16/30\n",
            "263/263 [==============================] - 3s 12ms/step - loss: 0.8658 - accuracy: 0.7253 - val_loss: 0.8921 - val_accuracy: 0.7094\n",
            "Epoch 17/30\n",
            "263/263 [==============================] - 3s 13ms/step - loss: 0.8518 - accuracy: 0.7298 - val_loss: 0.8501 - val_accuracy: 0.7351\n",
            "Epoch 18/30\n",
            "263/263 [==============================] - 5s 19ms/step - loss: 0.8406 - accuracy: 0.7337 - val_loss: 0.8205 - val_accuracy: 0.7425\n",
            "Epoch 19/30\n",
            "263/263 [==============================] - 5s 19ms/step - loss: 0.8258 - accuracy: 0.7385 - val_loss: 0.8407 - val_accuracy: 0.7329\n",
            "Epoch 20/30\n",
            "263/263 [==============================] - 5s 17ms/step - loss: 0.8200 - accuracy: 0.7383 - val_loss: 0.8093 - val_accuracy: 0.7513\n",
            "Epoch 21/30\n",
            "263/263 [==============================] - 3s 12ms/step - loss: 0.8161 - accuracy: 0.7402 - val_loss: 0.8469 - val_accuracy: 0.7436\n",
            "Epoch 22/30\n",
            "263/263 [==============================] - 3s 12ms/step - loss: 0.8058 - accuracy: 0.7432 - val_loss: 0.8235 - val_accuracy: 0.7415\n",
            "Epoch 23/30\n",
            "263/263 [==============================] - 4s 15ms/step - loss: 0.8007 - accuracy: 0.7436 - val_loss: 0.8027 - val_accuracy: 0.7533\n",
            "Epoch 24/30\n",
            "263/263 [==============================] - 5s 18ms/step - loss: 0.7920 - accuracy: 0.7472 - val_loss: 0.7534 - val_accuracy: 0.7664\n",
            "Epoch 25/30\n",
            "263/263 [==============================] - 5s 20ms/step - loss: 0.7714 - accuracy: 0.7532 - val_loss: 0.7814 - val_accuracy: 0.7542\n",
            "Epoch 26/30\n",
            "263/263 [==============================] - 4s 14ms/step - loss: 0.7757 - accuracy: 0.7538 - val_loss: 0.7556 - val_accuracy: 0.7594\n",
            "Epoch 27/30\n",
            "263/263 [==============================] - 3s 12ms/step - loss: 0.7541 - accuracy: 0.7613 - val_loss: 0.8314 - val_accuracy: 0.7412\n",
            "Epoch 28/30\n",
            "263/263 [==============================] - 3s 12ms/step - loss: 0.7613 - accuracy: 0.7589 - val_loss: 0.7555 - val_accuracy: 0.7686\n",
            "Epoch 29/30\n",
            "263/263 [==============================] - 4s 17ms/step - loss: 0.7594 - accuracy: 0.7593 - val_loss: 0.7642 - val_accuracy: 0.7637\n",
            "Epoch 30/30\n",
            "263/263 [==============================] - 5s 20ms/step - loss: 0.7430 - accuracy: 0.7625 - val_loss: 0.7616 - val_accuracy: 0.7629\n"
          ]
        }
      ],
      "source": [
        "input_shape = 1024 # the 32x32 images\n",
        "num_classes = 10 # how many different categories of images we have (1,2,3,4,5,6,7,8,9,0)\n",
        "\n",
        "def nn_model_2(input_shape, num_classes):\n",
        "    model = Sequential()\n",
        "\n",
        "    # First hidden layer with 256 nodes and ReLU activation\n",
        "    model.add(Dense(256, activation='relu', input_shape=(input_shape,)))\n",
        "\n",
        "    # Second hidden layer with 128 nodes and ReLU activation\n",
        "    model.add(Dense(128, activation='relu'))\n",
        "\n",
        "    # Add Dropout layer with a rate of 0.2\n",
        "    model.add(Dropout(0.2))\n",
        "\n",
        "    # Third hidden layer with 64 nodes and ReLU activation\n",
        "    model.add(Dense(64, activation='relu'))\n",
        "\n",
        "    # Fourth hidden layer with 64 nodes and ReLU activation\n",
        "    model.add(Dense(64, activation='relu'))\n",
        "\n",
        "    # Fifth hidden layer with 32 nodes and ReLU activation\n",
        "    model.add(Dense(32, activation='relu'))\n",
        "\n",
        "    # Add BatchNormalization layer\n",
        "    model.add(BatchNormalization())\n",
        "\n",
        "    # Output layer with 'softmax' activation and number of nodes equal to the number of classes\n",
        "    model.add(Dense(num_classes, activation='softmax'))\n",
        "\n",
        "    # Compile the model\n",
        "    model.compile(loss='categorical_crossentropy',\n",
        "                  optimizer=Adam(learning_rate=0.0005),\n",
        "                  metrics=['accuracy'])\n",
        "\n",
        "    return model\n",
        "\n",
        "# Create the model using the nn_model_2 function\n",
        "model_2 = nn_model_2(input_shape, num_classes)\n",
        "\n",
        "# Print the summary of the model\n",
        "model_2.summary()\n",
        "\n",
        "# Fit the model on the train data with a validation split of 0.2\n",
        "history = model_2.fit(X_train_normalized, y_train,\n",
        "                    validation_split=0.2,\n",
        "                    batch_size=128,\n",
        "                    verbose=1,\n",
        "                    epochs=30)"
      ]
    },
    {
      "cell_type": "markdown",
      "metadata": {
        "id": "ZJYsvjmw0XIX"
      },
      "source": [
        "### **Plot the Training and Validation Accuracies and write down your Observations.**"
      ]
    },
    {
      "cell_type": "code",
      "execution_count": null,
      "metadata": {
        "id": "01ig6BrF1KVy",
        "colab": {
          "base_uri": "https://localhost:8080/",
          "height": 699
        },
        "outputId": "e1be7ef0-2c85-49aa-c967-337d1b331036"
      },
      "outputs": [
        {
          "output_type": "display_data",
          "data": {
            "text/plain": [
              "<Figure size 800x800 with 1 Axes>"
            ],
            "image/png": "[encoded data removed]"
          },
          "metadata": {}
        }
      ],
      "source": [
        "# Plotting the accuracies together.\n",
        "\n",
        "# Extracts the training history from a Keras model and stores it in a dictionary.\n",
        "dict_hist = history.history\n",
        "\n",
        "# Creates a list of all Epochs\n",
        "list_ep = [i for i in range(1, 31)]\n",
        "\n",
        "# Creates a space to plot the graph in MatPlotLib\n",
        "plt.figure(figsize = (8, 8))\n",
        "\n",
        "# Plots the first line Accuracy\n",
        "plt.plot(list_ep, dict_hist['accuracy'], ls = '--', label = 'Accuracy')\n",
        "\n",
        "# Plots the second line Validation Accuracy\n",
        "plt.plot(list_ep, dict_hist['val_accuracy'], ls = '--', label = 'Validation Accuracy')\n",
        "\n",
        "# Sets the label for axis Y\n",
        "plt.ylabel('Accuracy')\n",
        "\n",
        "# Sets the label for axis X\n",
        "plt.xlabel('Epochs')\n",
        "\n",
        "# Sets the legend for the graph\n",
        "plt.legend()\n",
        "\n",
        "# Plots the actual graph on the screen.\n",
        "plt.show()"
      ]
    },
    {
      "cell_type": "markdown",
      "metadata": {
        "id": "VPW1LlD61RDn"
      },
      "source": [
        "**Observations:**\n",
        "Although the accuracy increased, the model seems to be slightly overfitted.\n",
        "The biggest take from this graph is this: while training accuracy increases (blue line) all the way to Epoch 11, the validation accuracy is somewhat segmented, even though it is higher than training accuracy. The model might not be generalizing well and picking up some noise.\n",
        "There could be a couple of resons:\n",
        "\n",
        "1.   The model is too complex with too many layers and might be mildly overfitting\n",
        "2.   The model might produce excessive amount of noise data\n",
        "3. The model is too sensitive to changes in validation data\n",
        "\n",
        "\n",
        "In other words, adding more complexity to an ANN model might not lead to a better performing model. Let's reject this model too for now."
      ]
    },
    {
      "cell_type": "markdown",
      "metadata": {
        "id": "8kuXx9Bvu00f"
      },
      "source": [
        "## **Predictions on the test data**\n",
        "\n",
        "- Make predictions on the test set using the second model.\n",
        "- Print the obtained results using the classification report and the confusion matrix.\n",
        "- Final observations on the obtained results."
      ]
    },
    {
      "cell_type": "code",
      "execution_count": null,
      "metadata": {
        "id": "xbWMEtTj5Ad0",
        "colab": {
          "base_uri": "https://localhost:8080/"
        },
        "outputId": "27f9d829-fdec-4d34-9bb1-7f336bade814"
      },
      "outputs": [
        {
          "output_type": "stream",
          "name": "stdout",
          "text": [
            "563/563 [==============================] - 2s 3ms/step\n"
          ]
        }
      ],
      "source": [
        "# We can use the .predict method to make our predictions.\n",
        "test_pred = model_2.predict(X_test)\n",
        "\n",
        "test_pred = np.argmax(test_pred, axis = -1)"
      ]
    },
    {
      "cell_type": "markdown",
      "metadata": {
        "id": "i3li8Ib08yts"
      },
      "source": [
        "**Note:** Earlier, we noticed that each entry of the target variable is a one-hot encoded vector but to print the classification report and confusion matrix, we must convert each entry of y_test to a single label."
      ]
    },
    {
      "cell_type": "code",
      "execution_count": null,
      "metadata": {
        "id": "NByu7uAQ8x9P"
      },
      "outputs": [],
      "source": [
        "# Converts back to the original labels from the matrix coded by one-hot-encoding.\n",
        "y_test = np.argmax(y_test, axis = -1)"
      ]
    },
    {
      "cell_type": "markdown",
      "metadata": {
        "id": "1_SIoopr0XIg"
      },
      "source": [
        "### **Print the classification report and the confusion matrix for the test predictions. Write your observations on the final results.**"
      ]
    },
    {
      "cell_type": "code",
      "execution_count": null,
      "metadata": {
        "id": "xRddeJ-3EHT1",
        "colab": {
          "base_uri": "https://localhost:8080/",
          "height": 760
        },
        "outputId": "7bf37557-e568-498a-f36a-aba907a9dcbc"
      },
      "outputs": [
        {
          "output_type": "stream",
          "name": "stdout",
          "text": [
            "              precision    recall  f1-score   support\n",
            "\n",
            "           0       0.87      0.63      0.73      1814\n",
            "           1       0.57      0.73      0.64      1828\n",
            "           2       0.69      0.74      0.71      1803\n",
            "           3       0.62      0.66      0.64      1719\n",
            "           4       0.64      0.82      0.72      1812\n",
            "           5       0.71      0.63      0.67      1768\n",
            "           6       0.82      0.65      0.72      1832\n",
            "           7       0.58      0.84      0.69      1808\n",
            "           8       0.83      0.54      0.65      1812\n",
            "           9       0.74      0.62      0.67      1804\n",
            "\n",
            "    accuracy                           0.68     18000\n",
            "   macro avg       0.71      0.68      0.68     18000\n",
            "weighted avg       0.71      0.68      0.68     18000\n",
            "\n"
          ]
        },
        {
          "output_type": "display_data",
          "data": {
            "text/plain": [
              "<Figure size 800x500 with 2 Axes>"
            ],
            "image/png": "[encoded data removed]"
          },
          "metadata": {}
        }
      ],
      "source": [
        "# Printing the classification report using the sklearn method.\n",
        "print(classification_report(y_test, test_pred))\n",
        "\n",
        "# Plotting the heatmap using confusion matrix using another sklearn method.\n",
        "cm = confusion_matrix(y_test, test_pred)\n",
        "\n",
        "# Plots the confusion matrix\n",
        "plt.figure(figsize = (8, 5))\n",
        "\n",
        "# Uses seaborn library to show the heatmap\n",
        "sns.heatmap(cm, annot = True,  fmt = '.0f')\n",
        "\n",
        "# Assigns label to the y axis\n",
        "plt.ylabel('Actual')\n",
        "\n",
        "# Assigns label to the x axis\n",
        "plt.xlabel('Predicted')\n",
        "\n",
        "# Plots the result.\n",
        "plt.show()"
      ]
    },
    {
      "cell_type": "markdown",
      "metadata": {
        "id": "DjErl4GA2u9s"
      },
      "source": [
        "**Final Observations:**\n",
        "From the confusion matrix we can see the following:\n",
        "1. Precision was 71% (macro average) which is the ratio of true positive predictions to the total number of predicted positive.\n",
        "Precision is relatively high for classes 0, 5, 6, 8 and 9, indicating that when the model predicts these classes, it tends to be correct. Classes 0 and 8, in particular, have high precision values (0.87 and 0.83, respectively).\n",
        "Precision is lower for classes 1, 3, and 7, suggesting that the model is more prone to false positives for these classes. It identifies an image as a certain number, when in reality it made a mistake.\n",
        "\n",
        "\n",
        "\n",
        "\n",
        "2. Recall was 68% and it is the ratio of true positive predictions to the total number of actual number images. It measures the ability of the model to get all the images, indicating how many of the actual true images are correctly predicted. Recall is relatively high for classes 1, 2, 4, and 7, indicating that the model is effective at capturing a significant proportion of true instances for these classes.\n",
        "Recall is lower for classes 0, 3, 5, 6, 8, and 9, suggesting that the model misses a notable number of instances for these classes. The model misses a lot...\n",
        "\n",
        "\n",
        "\n",
        "\n",
        "3. The F1-score is the harmonic mean of precision and recall. It provides a balance between precision and recall.\n",
        "F1-scores are generally in the range of 0.64 to 0.73, with higher values for classes 0, 2, 4, and 6.\n",
        "\n",
        "\n",
        "\n",
        "\n",
        "4. The overall accuracy is 0.68, indicating that the model correctly predicted the class labels for 68% of the images in the test set.\n",
        "\n",
        "\n",
        "5. Macro-Average and Weighted-Average: The macro-averaged precision, recall, and F1-score are around 0.71, suggesting a reasonably balanced performance across all classes when each class is given equal weight.\n",
        "The weighted averages take into account class imbalances, and they are also around 0.71.\n",
        "\n",
        "**Key Points to Note:**\n",
        "The model performs well for certain classes (e.g., 0, 4, 6) and less effectively for others (e.g., 1, 3, 8).\n",
        "Class imbalances should be considered, as the macro and weighted averages provide a more comprehensive view of overall performance.\n",
        "\n",
        "\n",
        "When analyzing the current model's performance, it is important to consider the precision and recall trade-offs. For example, if false positives are more critical, precision becomes more important like in our case.\n",
        "\n",
        "The model is basically useless if it misclassifies numbers in a large scale. This model seems to be misclassifing around 32% of the times.\n",
        "\n",
        "\n",
        "In summary, while the model shows reasonable performance, there is room for improvement, especially for classes with lower precision and recall values. Further optimization, tuning, or considering alternative model architectures (like a Convolutional Neural Network which is specifically designed to deal with grid-like data such as an image which is nothing more or less than a grid of pixels) may help enhance performance for specific classes. Let's reject this model too and try something else."
      ]
    },
    {
      "cell_type": "markdown",
      "metadata": {
        "id": "xkR4JioMsuIV"
      },
      "source": [
        "## **Using Convolutional Neural Networks**"
      ]
    },
    {
      "cell_type": "markdown",
      "metadata": {
        "id": "YN2YgkGL_6xQ"
      },
      "source": [
        "### **Load the dataset again and split the data into the train and the test dataset.**"
      ]
    },
    {
      "cell_type": "code",
      "execution_count": null,
      "metadata": {
        "id": "mqM204HbAjP2",
        "scrolled": true,
        "colab": {
          "base_uri": "https://localhost:8080/"
        },
        "outputId": "5bff8628-43ab-46d3-d0b4-3b06e6a335b6"
      },
      "outputs": [
        {
          "output_type": "stream",
          "name": "stdout",
          "text": [
            "['X_test', 'X_train', 'X_val', 'y_test', 'y_train', 'y_val']\n"
          ]
        }
      ],
      "source": [
        "# we ran this code previously to load the hdf5 file.\n",
        "with h5py.File(file_path, 'r') as f:\n",
        "    print(list(f.keys()))\n",
        "    X_train = f['X_train'][:]\n",
        "    y_train = f['y_train'][:]\n",
        "    X_test = f['X_test'][:]\n",
        "    y_test = f['y_test'][:]"
      ]
    },
    {
      "cell_type": "markdown",
      "metadata": {
        "id": "6fPqF_xGAjQB"
      },
      "source": [
        "Check the number of images in the training and the testing dataset."
      ]
    },
    {
      "cell_type": "code",
      "execution_count": null,
      "metadata": {
        "id": "gTLJZWjPAjQB",
        "colab": {
          "base_uri": "https://localhost:8080/"
        },
        "outputId": "597bd6b6-b771-417a-f9af-9a64e8617e74"
      },
      "outputs": [
        {
          "output_type": "execute_result",
          "data": {
            "text/plain": [
              "(42000, 18000)"
            ]
          },
          "metadata": {},
          "execution_count": 25
        }
      ],
      "source": [
        "len(X_train), len(X_test)"
      ]
    },
    {
      "cell_type": "markdown",
      "metadata": {
        "id": "9qyMiP_rAjQB"
      },
      "source": [
        "**Observation:**\n",
        "It confirms the same amount of images so the dataset loaded correctly."
      ]
    },
    {
      "cell_type": "markdown",
      "metadata": {
        "id": "OJndFfEVAjQG"
      },
      "source": [
        "## **Data preparation**\n",
        "\n",
        "- Print the shape and the array of pixels for the first image in the training dataset.\n",
        "- Reshape the train and the test dataset because we always have to give a 4D array as input to CNNs.\n",
        "- Normalize the train and the test dataset by dividing by 255.\n",
        "- Print the new shapes of the train and the test dataset.\n",
        "- One-hot encode the target variable."
      ]
    },
    {
      "cell_type": "code",
      "execution_count": null,
      "metadata": {
        "id": "W4uXqKz1AjQG",
        "colab": {
          "base_uri": "https://localhost:8080/"
        },
        "outputId": "04cd6004-e33f-4a1c-f05f-878f5e66eb87"
      },
      "outputs": [
        {
          "output_type": "stream",
          "name": "stdout",
          "text": [
            "Shape: (32, 32)\n",
            "First image:\n",
            " [[ 33.0704  30.2601  26.852  ...  71.4471  58.2204  42.9939]\n",
            " [ 25.2283  25.5533  29.9765 ... 113.0209 103.3639  84.2949]\n",
            " [ 26.2775  22.6137  40.4763 ... 113.3028 121.775  115.4228]\n",
            " ...\n",
            " [ 28.5502  36.212   45.0801 ...  24.1359  25.0927  26.0603]\n",
            " [ 38.4352  26.4733  23.2717 ...  28.1094  29.4683  30.0661]\n",
            " [ 50.2984  26.0773  24.0389 ...  49.6682  50.853   53.0377]]\n"
          ]
        }
      ],
      "source": [
        "# Let's check the shape and the array of pixels for the first image\n",
        "\n",
        "print(\"Shape:\", X_train[0].shape)\n",
        "\n",
        "print(\"First image:\\n\", X_train[0])"
      ]
    },
    {
      "cell_type": "markdown",
      "metadata": {
        "id": "at30iiX1__7F"
      },
      "source": [
        "Reshape the dataset to be able to pass them to CNNs. Remember that we always have to give a 4D array as input to CNNs"
      ]
    },
    {
      "cell_type": "code",
      "execution_count": null,
      "metadata": {
        "id": "D9YPwf9ysqWU"
      },
      "outputs": [],
      "source": [
        "# Since we always have to have a 4D array as input to CNNs, we need to reshape the arrays.\n",
        "\n",
        "# 4D array:\n",
        "# 1 Batch size\n",
        "# 2 Height of the image\n",
        "# 3 Width of the image\n",
        "# 4 Number of channels (e.g., 3 for RGB or 1 for grayscale)\n",
        "\n",
        "X_train = X_train.reshape(X_train.shape[0], 32, 32, 1)\n",
        "\n",
        "X_test = X_test.reshape(X_test.shape[0], 32, 32, 1)"
      ]
    },
    {
      "cell_type": "markdown",
      "metadata": {
        "id": "ODYnoLfaAEGx"
      },
      "source": [
        "Normalize inputs from 0-255 to 0-1"
      ]
    },
    {
      "cell_type": "code",
      "execution_count": null,
      "metadata": {
        "id": "eOGLAn40AjQG"
      },
      "outputs": [],
      "source": [
        "# Normalizes inputs from 0-255 to 0-1 like before\n",
        "\n",
        "X_train = X_train / 255.0\n",
        "\n",
        "X_test = X_test / 255.0"
      ]
    },
    {
      "cell_type": "markdown",
      "metadata": {
        "id": "cS9T4HqjAoyM"
      },
      "source": [
        "Print New shape of Training and Test"
      ]
    },
    {
      "cell_type": "code",
      "execution_count": null,
      "metadata": {
        "id": "5qf8S5NQAjQG",
        "colab": {
          "base_uri": "https://localhost:8080/"
        },
        "outputId": "6f162d4d-c46a-4c13-eb00-de69a78277b8"
      },
      "outputs": [
        {
          "output_type": "stream",
          "name": "stdout",
          "text": [
            "Training set: (42000, 32, 32, 1) (42000,)\n",
            "Test set: (18000, 32, 32, 1) (18000,)\n"
          ]
        }
      ],
      "source": [
        "# Let's see what the new shape looks like for both Training set and Test set:\n",
        "print('Training set:', X_train.shape, y_train.shape)\n",
        "\n",
        "print('Test set:', X_test.shape, y_test.shape)"
      ]
    },
    {
      "cell_type": "markdown",
      "metadata": {
        "id": "10QaOV-xR7Jn"
      },
      "source": [
        "### **One-hot encode the labels in the target variable y_train and y_test.**"
      ]
    },
    {
      "cell_type": "code",
      "execution_count": null,
      "metadata": {
        "id": "3KHWFWKMAjQH"
      },
      "outputs": [],
      "source": [
        "# Again we turn the y_train and y-test variables into a matrix that is one-hot encoded.\n",
        "\n",
        "y_train = to_categorical(y_train)\n",
        "\n",
        "y_test = to_categorical(y_test)"
      ]
    },
    {
      "cell_type": "code",
      "source": [
        "# Prints the contents of the converted matrix\n",
        "print(y_test)"
      ],
      "metadata": {
        "colab": {
          "base_uri": "https://localhost:8080/"
        },
        "id": "uf-HJTO5Pp3V",
        "outputId": "effcf582-76d8-44ad-eb11-1a68b9cd3a6e"
      },
      "execution_count": null,
      "outputs": [
        {
          "output_type": "stream",
          "name": "stdout",
          "text": [
            "[[0. 1. 0. ... 0. 0. 0.]\n",
            " [0. 0. 0. ... 1. 0. 0.]\n",
            " [0. 0. 1. ... 0. 0. 0.]\n",
            " ...\n",
            " [0. 0. 0. ... 1. 0. 0.]\n",
            " [0. 0. 0. ... 0. 0. 1.]\n",
            " [0. 0. 1. ... 0. 0. 0.]]\n"
          ]
        }
      ]
    },
    {
      "cell_type": "markdown",
      "metadata": {
        "id": "H-8jYVQTAjQH"
      },
      "source": [
        "**Observation:**\n",
        "Our dataset is ready to be put to use in a Convolutional Network."
      ]
    },
    {
      "cell_type": "markdown",
      "metadata": {
        "id": "Vjx_LI4_AjQH"
      },
      "source": [
        "## **Model Building**\n",
        "\n",
        "Now that we have done data preprocessing, let's build a CNN model.\n",
        "Fix the seed for random number generators"
      ]
    },
    {
      "cell_type": "code",
      "execution_count": null,
      "metadata": {
        "id": "ZY5pyF4-KDNt"
      },
      "outputs": [],
      "source": [
        "# We are reusing the function created before to set all seeds.\n",
        "seed_setup()"
      ]
    },
    {
      "cell_type": "markdown",
      "metadata": {
        "id": "1JUAczhzAjQH"
      },
      "source": [
        "### **Model Architecture**\n",
        "- **Write a function** that returns a sequential model with the following architecture:\n",
        " - First Convolutional layer with **16 filters and the kernel size of 3x3**. Use the **'same' padding** and provide the **input shape = (32, 32, 1)**\n",
        " - Add a **LeakyRelu layer** with the **slope equal to 0.1**\n",
        " - Second Convolutional layer with **32 filters and the kernel size of 3x3 with 'same' padding**\n",
        " - Another **LeakyRelu** with the **slope equal to 0.1**\n",
        " - A **max-pooling layer** with a **pool size of 2x2**\n",
        " - **Flatten** the output from the previous layer\n",
        " - Add a **dense layer with 32 nodes**\n",
        " - Add a **LeakyRelu layer with the slope equal to 0.1**\n",
        " - Add the final **output layer with nodes equal to the number of classes, i.e., 10** and **'softmax' as the activation function**\n",
        " - Compile the model with the **loss equal to categorical_crossentropy, optimizer equal to Adam(learning_rate = 0.001), and metric equal to 'accuracy'**. Do not fit the model here, just return the compiled model.\n",
        "- Call the function cnn_model_1 and store the output in a new variable.\n",
        "- Print the summary of the model.\n",
        "- Fit the model on the training data with a **validation split of 0.2, batch size = 32, verbose = 1, and epochs = 20**. Store the model building history to use later for visualization."
      ]
    },
    {
      "cell_type": "markdown",
      "metadata": {
        "id": "JWsAd45JKDNu"
      },
      "source": [
        "### **Build and train a CNN model as per the above mentioned architecture.**"
      ]
    },
    {
      "cell_type": "code",
      "execution_count": null,
      "metadata": {
        "id": "L1jOYANWAjQH",
        "colab": {
          "base_uri": "https://localhost:8080/"
        },
        "outputId": "8f372e5e-4a27-4490-c254-c3f04a55f573"
      },
      "outputs": [
        {
          "output_type": "stream",
          "name": "stdout",
          "text": [
            "Model: \"sequential_1\"\n",
            "_________________________________________________________________\n",
            " Layer (type)                Output Shape              Param #   \n",
            "=================================================================\n",
            " conv2d (Conv2D)             (None, 32, 32, 16)        160       \n",
            "                                                                 \n",
            " leaky_re_lu (LeakyReLU)     (None, 32, 32, 16)        0         \n",
            "                                                                 \n",
            " conv2d_1 (Conv2D)           (None, 32, 32, 32)        4640      \n",
            "                                                                 \n",
            " leaky_re_lu_1 (LeakyReLU)   (None, 32, 32, 32)        0         \n",
            "                                                                 \n",
            " max_pooling2d (MaxPooling2D  (None, 16, 16, 32)       0         \n",
            " )                                                               \n",
            "                                                                 \n",
            " flatten (Flatten)           (None, 8192)              0         \n",
            "                                                                 \n",
            " dense_6 (Dense)             (None, 32)                262176    \n",
            "                                                                 \n",
            " leaky_re_lu_2 (LeakyReLU)   (None, 32)                0         \n",
            "                                                                 \n",
            " dense_7 (Dense)             (None, 10)                330       \n",
            "                                                                 \n",
            "=================================================================\n",
            "Total params: 267,306\n",
            "Trainable params: 267,306\n",
            "Non-trainable params: 0\n",
            "_________________________________________________________________\n",
            "Epoch 1/20\n",
            "1050/1050 [==============================] - 115s 109ms/step - loss: 1.1104 - accuracy: 0.6407 - val_loss: 0.6538 - val_accuracy: 0.8092\n",
            "Epoch 2/20\n",
            "1050/1050 [==============================] - 102s 97ms/step - loss: 0.5391 - accuracy: 0.8455 - val_loss: 0.5249 - val_accuracy: 0.8460\n",
            "Epoch 3/20\n",
            "1050/1050 [==============================] - 106s 101ms/step - loss: 0.4407 - accuracy: 0.8688 - val_loss: 0.4947 - val_accuracy: 0.8617\n",
            "Epoch 4/20\n",
            "1050/1050 [==============================] - 101s 96ms/step - loss: 0.3782 - accuracy: 0.8885 - val_loss: 0.4393 - val_accuracy: 0.8782\n",
            "Epoch 5/20\n",
            "1050/1050 [==============================] - 107s 102ms/step - loss: 0.3322 - accuracy: 0.9004 - val_loss: 0.4515 - val_accuracy: 0.8745\n",
            "Epoch 6/20\n",
            "1050/1050 [==============================] - 102s 97ms/step - loss: 0.2925 - accuracy: 0.9112 - val_loss: 0.4731 - val_accuracy: 0.8692\n",
            "Epoch 7/20\n",
            "1050/1050 [==============================] - 108s 103ms/step - loss: 0.2630 - accuracy: 0.9199 - val_loss: 0.4649 - val_accuracy: 0.8715\n",
            "Epoch 8/20\n",
            "1050/1050 [==============================] - 102s 97ms/step - loss: 0.2340 - accuracy: 0.9266 - val_loss: 0.4819 - val_accuracy: 0.8717\n",
            "Epoch 9/20\n",
            "1050/1050 [==============================] - 108s 103ms/step - loss: 0.2113 - accuracy: 0.9348 - val_loss: 0.4790 - val_accuracy: 0.8781\n",
            "Epoch 10/20\n",
            "1050/1050 [==============================] - 103s 98ms/step - loss: 0.1887 - accuracy: 0.9415 - val_loss: 0.4878 - val_accuracy: 0.8776\n",
            "Epoch 11/20\n",
            "1050/1050 [==============================] - 110s 104ms/step - loss: 0.1675 - accuracy: 0.9488 - val_loss: 0.5432 - val_accuracy: 0.8758\n",
            "Epoch 12/20\n",
            "1050/1050 [==============================] - 105s 100ms/step - loss: 0.1518 - accuracy: 0.9524 - val_loss: 0.5550 - val_accuracy: 0.8735\n",
            "Epoch 13/20\n",
            "1050/1050 [==============================] - 110s 105ms/step - loss: 0.1331 - accuracy: 0.9585 - val_loss: 0.5935 - val_accuracy: 0.8680\n",
            "Epoch 14/20\n",
            "1050/1050 [==============================] - 104s 99ms/step - loss: 0.1218 - accuracy: 0.9614 - val_loss: 0.6262 - val_accuracy: 0.8656\n",
            "Epoch 15/20\n",
            "1050/1050 [==============================] - 110s 104ms/step - loss: 0.1111 - accuracy: 0.9648 - val_loss: 0.6642 - val_accuracy: 0.8670\n",
            "Epoch 16/20\n",
            "1050/1050 [==============================] - 112s 106ms/step - loss: 0.1025 - accuracy: 0.9662 - val_loss: 0.6503 - val_accuracy: 0.8720\n",
            "Epoch 17/20\n",
            "1050/1050 [==============================] - 111s 105ms/step - loss: 0.0865 - accuracy: 0.9726 - val_loss: 0.7214 - val_accuracy: 0.8676\n",
            "Epoch 18/20\n",
            "1050/1050 [==============================] - 106s 101ms/step - loss: 0.0844 - accuracy: 0.9724 - val_loss: 0.7855 - val_accuracy: 0.8623\n",
            "Epoch 19/20\n",
            "1050/1050 [==============================] - 103s 98ms/step - loss: 0.0742 - accuracy: 0.9751 - val_loss: 0.8000 - val_accuracy: 0.8692\n",
            "Epoch 20/20\n",
            "1050/1050 [==============================] - 105s 100ms/step - loss: 0.0691 - accuracy: 0.9770 - val_loss: 0.8442 - val_accuracy: 0.8639\n"
          ]
        }
      ],
      "source": [
        "# Importing libraries that are used in CNN\n",
        "from keras.layers import Conv2D, LeakyReLU, MaxPooling2D, Flatten, Dense\n",
        "from keras.optimizers import Adam\n",
        "\n",
        "def cnn_model_1():\n",
        "    model = Sequential()\n",
        "\n",
        "    # First Convolutional layer\n",
        "    model.add(Conv2D(16, (3, 3), padding='same', input_shape=(32, 32, 1)))\n",
        "    model.add(LeakyReLU(0.1))\n",
        "\n",
        "    # Second Convolutional layer\n",
        "    model.add(Conv2D(32, (3, 3), padding='same'))\n",
        "    model.add(LeakyReLU(0.1))\n",
        "\n",
        "    # Max-pooling layer\n",
        "    model.add(MaxPooling2D(pool_size=(2, 2)))\n",
        "\n",
        "    # Flattens the output\n",
        "    model.add(Flatten())\n",
        "\n",
        "    # Dense layer\n",
        "    model.add(Dense(32))\n",
        "    model.add(LeakyReLU(0.1))\n",
        "\n",
        "    # Output layer\n",
        "    model.add(Dense(10, activation='softmax'))\n",
        "\n",
        "    # Compiles the model\n",
        "    model.compile(loss='categorical_crossentropy',\n",
        "                  optimizer=Adam(learning_rate=0.001),\n",
        "                  metrics=['accuracy'])\n",
        "\n",
        "    return model\n",
        "\n",
        "# Builds the CNN model\n",
        "cnn_model_1 = cnn_model_1()\n",
        "\n",
        "# Prints the model summary\n",
        "cnn_model_1.summary()\n",
        "\n",
        "# Fits the model (Assuming you have X_train, y_train as the training data)\n",
        "history_cnn_model_1 = cnn_model_1.fit(X_train, y_train,\n",
        "                                      validation_split=0.2,\n",
        "                                      batch_size=32,\n",
        "                                      verbose=1,\n",
        "                                      epochs=20)\n",
        "\n"
      ]
    },
    {
      "cell_type": "markdown",
      "metadata": {
        "id": "JPzfIf9kKDNw"
      },
      "source": [
        "### **Plot the Training and Validation Accuracies and Write your observations.**"
      ]
    },
    {
      "cell_type": "code",
      "execution_count": null,
      "metadata": {
        "id": "07oUCr1kAjQH",
        "colab": {
          "base_uri": "https://localhost:8080/",
          "height": 696
        },
        "outputId": "f93a06d9-0509-4098-c119-0f7c847580f4"
      },
      "outputs": [
        {
          "output_type": "display_data",
          "data": {
            "text/plain": [
              "<Figure size 800x800 with 1 Axes>"
            ],
            "image/png": "[encoded data removed]"
          },
          "metadata": {}
        }
      ],
      "source": [
        "# Plotting the accuracies, see explanation of code above. It is the same code with different parameters.\n",
        "\n",
        "dict_hist = history_cnn_model_1.history\n",
        "\n",
        "list_ep = [i for i in range(1, 21)]\n",
        "\n",
        "plt.figure(figsize = (8, 8))\n",
        "\n",
        "plt.plot(list_ep, dict_hist['accuracy'], ls = '--', label = 'accuracy')\n",
        "\n",
        "plt.plot(list_ep, dict_hist['val_accuracy'], ls = '--', label = 'val_accuracy')\n",
        "\n",
        "plt.ylabel('Accuracy')\n",
        "\n",
        "plt.xlabel('Epochs')\n",
        "\n",
        "plt.legend()\n",
        "\n",
        "plt.show()"
      ]
    },
    {
      "cell_type": "markdown",
      "metadata": {
        "id": "P6zTLyp9AjQH"
      },
      "source": [
        "**Observations:**\n",
        "\n",
        "\n",
        "**1. Initial Training (Epochs 1-2):**\n",
        "\n",
        "\n",
        "Blue Line (Training Accuracy): The smooth increase in the training accuracy up to 0.99 suggests that the model is learning well from the training data and is capable of fitting the training set almost perfectly.\n",
        "\n",
        "Yellow Line (Validation Accuracy): The initial increase in the validation accuracy for the first two epochs indicates that the model is able to generalize to the validation set initially.\n",
        "\n",
        "\n",
        "**2. Fragmentation and Plateau of Yellow Line (Epochs 3-20):**\n",
        "\n",
        "Yellow Line (Validation Accuracy): The fragmentation and subsequent plateau of the validation accuracy line indicate that the model is struggling to generalize beyond a certain point. The fact that it plateaus at 0.87 suggests that the model is reaching a performance limit on unseen data, and it might be overfitting to the training set.\n",
        "\n",
        "Blue Line (Training Accuracy): The continued smooth increase in training accuracy (up to 0.99) suggests that the model is still able to fit the training data well, but this may be contributing to overfitting.\n",
        "The decrease in validation accuracy towards the end of training (down to 0.85) indicates that the model might be overfitting more severely as training progresses.\n",
        "\n",
        "\n",
        "**Possible Improvements and Pitfalls:**\n",
        "The model is likely overfitting to the training data, as evidenced by the large gap between training and validation accuracy. Overfitting occurs when the model memorizes the training set instead of learning general patterns. Using techniques like dropout or regularization to mitigate overfitting could help.\n",
        "\n",
        "Incorporating Data Augmentation into the training pipeline. Data augmentation can help expose the model to more diverse examples during training, potentially improving generalization.\n",
        "\n",
        "Experimenting with different learning rates can be useful. A learning rate that is too high might cause the model to overshoot optimal parameter values, while a too-low learning rate might slow down or hinder convergence.\n",
        "\n",
        "Architecture Complexity: Assess the complexity of the model. If the model is too complex for the given data, it might memorize noise instead of learning useful patterns.\n",
        "Early Stopping: Implements early stopping to monitor the validation performance and stops training when it starts to degrade, preventing overfitting.\n",
        "\n",
        "\n",
        "\n",
        "In summary, the model is likely suffering from overfitting, and addressing this issue through regularization techniques, data augmentation, and careful hyperparameter tuning may lead to better generalization on unseen data. Let's reject this model too.\n",
        "\n",
        "\n",
        "\n",
        "\n",
        "\n"
      ]
    },
    {
      "cell_type": "markdown",
      "metadata": {
        "id": "Ukvtg2eMAjQH"
      },
      "source": [
        "Let's build another model and see if we can get a better model with generalized performance.\n",
        "\n",
        "First, we need to clear the previous model's history from the Keras backend. Also, let's fix the seed again after clearing the backend."
      ]
    },
    {
      "cell_type": "code",
      "execution_count": null,
      "metadata": {
        "id": "HbKi93HTolGW"
      },
      "outputs": [],
      "source": [
        "# Clearing the backend in Keras\n",
        "backend.clear_session()\n",
        "\n",
        "#Calling our handy function to reset the seed\n",
        "seed_setup()"
      ]
    },
    {
      "cell_type": "markdown",
      "metadata": {
        "id": "Ep19Jd8HAjQH"
      },
      "source": [
        "### **Second Model Architecture**\n",
        "\n",
        "- Write a function that returns a sequential model with the following architecture:\n",
        " - First Convolutional layer with **16 filters and the kernel size of 3x3**. Use the **'same' padding** and provide the **input shape = (32, 32, 1)**\n",
        " - Add a **LeakyRelu layer** with the **slope equal to 0.1**\n",
        " - Second Convolutional layer with **32 filters and the kernel size of 3x3 with 'same' padding**\n",
        " - Add **LeakyRelu** with the **slope equal to 0.1**\n",
        " - Add a **max-pooling layer** with a **pool size of 2x2**\n",
        " - Add a **BatchNormalization layer**\n",
        " - Third Convolutional layer with **32 filters and the kernel size of 3x3 with 'same' padding**\n",
        " - Add a **LeakyRelu layer with the slope equal to 0.1**\n",
        " - Fourth Convolutional layer **64 filters and the kernel size of 3x3 with 'same' padding**\n",
        " - Add a **LeakyRelu layer with the slope equal to 0.1**\n",
        " - Add a **max-pooling layer** with a **pool size of 2x2**\n",
        " - Add a **BatchNormalization layer**\n",
        " - **Flatten** the output from the previous layer\n",
        " - Add a **dense layer with 32 nodes**\n",
        " - Add a **LeakyRelu layer with the slope equal to 0.1**\n",
        " - Add a **dropout layer with the rate equal to 0.5**\n",
        " - Add the final **output layer with nodes equal to the number of classes, i.e., 10** and **'softmax' as the activation function**\n",
        " - Compile the model with the **categorical_crossentropy loss, adam optimizers (learning_rate = 0.001), and metric equal to 'accuracy'**. Do not fit the model here, just return the compiled model.\n",
        "- Call the function cnn_model_2 and store the model in a new variable.\n",
        "- Print the summary of the model.\n",
        "- Fit the model on the train data with a **validation split of 0.2, batch size = 128, verbose = 1, and epochs = 30**. Store the model building history to use later for visualization."
      ]
    },
    {
      "cell_type": "markdown",
      "metadata": {
        "id": "y5IBLS1eKDNy"
      },
      "source": [
        "### **Build and train the second CNN model as per the above mentioned architecture.**"
      ]
    },
    {
      "cell_type": "code",
      "execution_count": null,
      "metadata": {
        "id": "wk9sl2UEAjQH",
        "colab": {
          "base_uri": "https://localhost:8080/"
        },
        "outputId": "62288686-0941-44f9-edd0-6838f7c13899"
      },
      "outputs": [
        {
          "output_type": "stream",
          "name": "stdout",
          "text": [
            "Model: \"sequential\"\n",
            "_________________________________________________________________\n",
            " Layer (type)                Output Shape              Param #   \n",
            "=================================================================\n",
            " conv2d (Conv2D)             (None, 32, 32, 16)        160       \n",
            "                                                                 \n",
            " leaky_re_lu (LeakyReLU)     (None, 32, 32, 16)        0         \n",
            "                                                                 \n",
            " conv2d_1 (Conv2D)           (None, 32, 32, 32)        4640      \n",
            "                                                                 \n",
            " leaky_re_lu_1 (LeakyReLU)   (None, 32, 32, 32)        0         \n",
            "                                                                 \n",
            " max_pooling2d (MaxPooling2D  (None, 16, 16, 32)       0         \n",
            " )                                                               \n",
            "                                                                 \n",
            " batch_normalization (BatchN  (None, 16, 16, 32)       128       \n",
            " ormalization)                                                   \n",
            "                                                                 \n",
            " conv2d_2 (Conv2D)           (None, 16, 16, 32)        9248      \n",
            "                                                                 \n",
            " leaky_re_lu_2 (LeakyReLU)   (None, 16, 16, 32)        0         \n",
            "                                                                 \n",
            " conv2d_3 (Conv2D)           (None, 16, 16, 64)        18496     \n",
            "                                                                 \n",
            " leaky_re_lu_3 (LeakyReLU)   (None, 16, 16, 64)        0         \n",
            "                                                                 \n",
            " max_pooling2d_1 (MaxPooling  (None, 8, 8, 64)         0         \n",
            " 2D)                                                             \n",
            "                                                                 \n",
            " batch_normalization_1 (Batc  (None, 8, 8, 64)         256       \n",
            " hNormalization)                                                 \n",
            "                                                                 \n",
            " flatten (Flatten)           (None, 4096)              0         \n",
            "                                                                 \n",
            " dense (Dense)               (None, 32)                131104    \n",
            "                                                                 \n",
            " leaky_re_lu_4 (LeakyReLU)   (None, 32)                0         \n",
            "                                                                 \n",
            " dropout (Dropout)           (None, 32)                0         \n",
            "                                                                 \n",
            " dense_1 (Dense)             (None, 10)                330       \n",
            "                                                                 \n",
            "=================================================================\n",
            "Total params: 164,362\n",
            "Trainable params: 164,170\n",
            "Non-trainable params: 192\n",
            "_________________________________________________________________\n",
            "Epoch 1/30\n",
            "263/263 [==============================] - 175s 657ms/step - loss: 1.3295 - accuracy: 0.5492 - val_loss: 1.8366 - val_accuracy: 0.4012\n",
            "Epoch 2/30\n",
            "263/263 [==============================] - 170s 648ms/step - loss: 0.6629 - accuracy: 0.7947 - val_loss: 0.6296 - val_accuracy: 0.8187\n",
            "Epoch 3/30\n",
            "263/263 [==============================] - 171s 650ms/step - loss: 0.5465 - accuracy: 0.8348 - val_loss: 0.4336 - val_accuracy: 0.8780\n",
            "Epoch 4/30\n",
            "263/263 [==============================] - 169s 643ms/step - loss: 0.4917 - accuracy: 0.8516 - val_loss: 0.4073 - val_accuracy: 0.8854\n",
            "Epoch 5/30\n",
            "263/263 [==============================] - 183s 698ms/step - loss: 0.4366 - accuracy: 0.8640 - val_loss: 0.3888 - val_accuracy: 0.8892\n",
            "Epoch 6/30\n",
            "263/263 [==============================] - 179s 681ms/step - loss: 0.3996 - accuracy: 0.8781 - val_loss: 0.3651 - val_accuracy: 0.8974\n",
            "Epoch 7/30\n",
            "263/263 [==============================] - 169s 643ms/step - loss: 0.3777 - accuracy: 0.8843 - val_loss: 0.4153 - val_accuracy: 0.8815\n",
            "Epoch 8/30\n",
            "263/263 [==============================] - 180s 683ms/step - loss: 0.3509 - accuracy: 0.8906 - val_loss: 0.4018 - val_accuracy: 0.8902\n",
            "Epoch 9/30\n",
            "263/263 [==============================] - 179s 681ms/step - loss: 0.3275 - accuracy: 0.8968 - val_loss: 0.3914 - val_accuracy: 0.9014\n",
            "Epoch 10/30\n",
            "263/263 [==============================] - 180s 683ms/step - loss: 0.3174 - accuracy: 0.9011 - val_loss: 0.3334 - val_accuracy: 0.9111\n",
            "Epoch 11/30\n",
            "263/263 [==============================] - 215s 819ms/step - loss: 0.2925 - accuracy: 0.9087 - val_loss: 0.3488 - val_accuracy: 0.9071\n",
            "Epoch 12/30\n",
            "263/263 [==============================] - 171s 651ms/step - loss: 0.2799 - accuracy: 0.9114 - val_loss: 0.3864 - val_accuracy: 0.9073\n",
            "Epoch 13/30\n",
            "263/263 [==============================] - 169s 643ms/step - loss: 0.2641 - accuracy: 0.9160 - val_loss: 0.3677 - val_accuracy: 0.9050\n",
            "Epoch 14/30\n",
            "263/263 [==============================] - 180s 683ms/step - loss: 0.2520 - accuracy: 0.9205 - val_loss: 0.4185 - val_accuracy: 0.9025\n",
            "Epoch 15/30\n",
            "263/263 [==============================] - 169s 643ms/step - loss: 0.2461 - accuracy: 0.9210 - val_loss: 0.3930 - val_accuracy: 0.9063\n",
            "Epoch 16/30\n",
            "263/263 [==============================] - 179s 681ms/step - loss: 0.2346 - accuracy: 0.9253 - val_loss: 0.3720 - val_accuracy: 0.9083\n",
            "Epoch 17/30\n",
            "263/263 [==============================] - 170s 644ms/step - loss: 0.2230 - accuracy: 0.9255 - val_loss: 0.3647 - val_accuracy: 0.9079\n",
            "Epoch 18/30\n",
            "263/263 [==============================] - 169s 645ms/step - loss: 0.2127 - accuracy: 0.9305 - val_loss: 0.3805 - val_accuracy: 0.9096\n",
            "Epoch 19/30\n",
            "263/263 [==============================] - 179s 681ms/step - loss: 0.2088 - accuracy: 0.9318 - val_loss: 0.4096 - val_accuracy: 0.9135\n",
            "Epoch 20/30\n",
            "263/263 [==============================] - 179s 681ms/step - loss: 0.2049 - accuracy: 0.9349 - val_loss: 0.3969 - val_accuracy: 0.9137\n",
            "Epoch 21/30\n",
            "263/263 [==============================] - 172s 654ms/step - loss: 0.1959 - accuracy: 0.9351 - val_loss: 0.4218 - val_accuracy: 0.9102\n",
            "Epoch 22/30\n",
            "263/263 [==============================] - 167s 634ms/step - loss: 0.1880 - accuracy: 0.9376 - val_loss: 0.4353 - val_accuracy: 0.8935\n",
            "Epoch 23/30\n",
            "263/263 [==============================] - 170s 647ms/step - loss: 0.1816 - accuracy: 0.9407 - val_loss: 0.4080 - val_accuracy: 0.9104\n",
            "Epoch 24/30\n",
            "263/263 [==============================] - 179s 681ms/step - loss: 0.1783 - accuracy: 0.9418 - val_loss: 0.4423 - val_accuracy: 0.9058\n",
            "Epoch 25/30\n",
            "263/263 [==============================] - 180s 682ms/step - loss: 0.1694 - accuracy: 0.9434 - val_loss: 0.4179 - val_accuracy: 0.9058\n",
            "Epoch 26/30\n",
            "263/263 [==============================] - 180s 685ms/step - loss: 0.1663 - accuracy: 0.9443 - val_loss: 0.4710 - val_accuracy: 0.9029\n",
            "Epoch 27/30\n",
            "263/263 [==============================] - 180s 686ms/step - loss: 0.1650 - accuracy: 0.9451 - val_loss: 0.4196 - val_accuracy: 0.9131\n",
            "Epoch 28/30\n",
            "263/263 [==============================] - 185s 705ms/step - loss: 0.1601 - accuracy: 0.9464 - val_loss: 0.4408 - val_accuracy: 0.9087\n",
            "Epoch 29/30\n",
            "263/263 [==============================] - 168s 640ms/step - loss: 0.1603 - accuracy: 0.9462 - val_loss: 0.4402 - val_accuracy: 0.9033\n",
            "Epoch 30/30\n",
            "263/263 [==============================] - 170s 644ms/step - loss: 0.1457 - accuracy: 0.9513 - val_loss: 0.4569 - val_accuracy: 0.9133\n"
          ]
        }
      ],
      "source": [
        "# Let's build a more complex CNN model and see if we can take care of the overfitting issue.\n",
        "from keras.layers import Conv2D, LeakyReLU, MaxPooling2D, BatchNormalization, Flatten, Dense, Dropout\n",
        "from keras.optimizers import Adam\n",
        "\n",
        "def cnn_model_2():\n",
        "    model = Sequential()\n",
        "\n",
        "    # First Convolutional layer\n",
        "    model.add(Conv2D(16, (3, 3), padding='same', input_shape=(32, 32, 1)))\n",
        "    model.add(LeakyReLU(0.1))\n",
        "\n",
        "    # Second Convolutional layer\n",
        "    model.add(Conv2D(32, (3, 3), padding='same'))\n",
        "    model.add(LeakyReLU(0.1))\n",
        "\n",
        "    # Max-pooling layer\n",
        "    model.add(MaxPooling2D(pool_size=(2, 2)))\n",
        "\n",
        "    # Batch Normalization\n",
        "    model.add(BatchNormalization())\n",
        "\n",
        "    # Third Convolutional layer\n",
        "    model.add(Conv2D(32, (3, 3), padding='same'))\n",
        "    model.add(LeakyReLU(0.1))\n",
        "\n",
        "    # Fourth Convolutional layer\n",
        "    model.add(Conv2D(64, (3, 3), padding='same'))\n",
        "    model.add(LeakyReLU(0.1))\n",
        "\n",
        "    # Max-pooling layer\n",
        "    model.add(MaxPooling2D(pool_size=(2, 2)))\n",
        "\n",
        "    # Batch Normalization\n",
        "    model.add(BatchNormalization())\n",
        "\n",
        "    # Flatten the output\n",
        "    model.add(Flatten())\n",
        "\n",
        "    # Dense layer\n",
        "    model.add(Dense(32))\n",
        "    model.add(LeakyReLU(0.1))\n",
        "\n",
        "    # Dropout layer\n",
        "    model.add(Dropout(0.5))\n",
        "\n",
        "    # Output layer\n",
        "    model.add(Dense(10, activation='softmax'))\n",
        "\n",
        "    # Compile the model\n",
        "    model.compile(loss='categorical_crossentropy',\n",
        "                  optimizer=Adam(learning_rate=0.001),\n",
        "                  metrics=['accuracy'])\n",
        "\n",
        "    return model\n",
        "\n",
        "# Builds the model\n",
        "cnn_model_2 = cnn_model_2()\n",
        "\n",
        "# Prints the model summary\n",
        "cnn_model_2.summary()\n",
        "\n",
        "# Fits the model (Assuming you have X_train, y_train as training data)\n",
        "history_cnn_model_2 = cnn_model_2.fit(X_train, y_train,\n",
        "                                      validation_split=0.2,\n",
        "                                      batch_size=128,\n",
        "                                      verbose=1,\n",
        "                                      epochs=30)\n"
      ]
    },
    {
      "cell_type": "markdown",
      "metadata": {
        "id": "PyhUtMy3KDN1"
      },
      "source": [
        "### **Plot the Training and Validation accuracies and write your observations.**"
      ]
    },
    {
      "cell_type": "code",
      "execution_count": null,
      "metadata": {
        "id": "YVQu7uWiAjQH",
        "colab": {
          "base_uri": "https://localhost:8080/",
          "height": 696
        },
        "outputId": "9f7204f9-590e-48f2-e46e-425259f2c490"
      },
      "outputs": [
        {
          "output_type": "display_data",
          "data": {
            "text/plain": [
              "<Figure size 800x800 with 1 Axes>"
            ],
            "image/png": "[encoded data removed]"
          },
          "metadata": {}
        }
      ],
      "source": [
        "# Plotting the accuracies, as before see explanation of code above. It is the same code with different parameters.\n",
        "\n",
        "dict_hist = history_cnn_model_2.history\n",
        "\n",
        "list_ep = [i for i in range(1, 31)]\n",
        "\n",
        "plt.figure(figsize = (8, 8))\n",
        "\n",
        "plt.plot(list_ep, dict_hist['accuracy'], ls = '--', label = 'accuracy')\n",
        "\n",
        "plt.plot(list_ep, dict_hist['val_accuracy'], ls = '--', label = 'val_accuracy')\n",
        "\n",
        "plt.ylabel('Accuracy')\n",
        "\n",
        "plt.xlabel('Epochs')\n",
        "\n",
        "plt.legend()\n",
        "\n",
        "plt.show()"
      ]
    },
    {
      "cell_type": "markdown",
      "metadata": {
        "id": "Qrrt0Ac3AjQH"
      },
      "source": [
        "**Observations:**\n",
        "\n",
        "\n",
        "**1. Initial Training (Epochs 1-2):**\n",
        "**Both Blue and Yellow Lines:** The fact that both training and validation accuracies reach over 0.80 within the first two epochs is a positive sign. It suggests that the model quickly learns and generalizes well from the training data to the validation data.\n",
        "\n",
        "\n",
        "**2. Training Phase (Epochs 3-30):**\n",
        "\n",
        "\n",
        ">**Blue Line (Training Accuracy):** The continuous rise in the training accuracy and reaching almost 100% towards the end of 30 epochs indicates that the model is capable of fitting the training data extremely well. The high training accuracy could be a sign of potential overfitting, especially if the validation accuracy does not follow a similar trend.\n",
        "\n",
        "\n",
        ">**Yellow Line (Validation Accuracy):** The initial plateau and bouncing around the blue line up to epoch 10 might indicate some instability in the training process. However, the stabilization around epoch 10 with an accuracy of 0.91 is a good sign. The stability in validation accuracy suggests that the model is generalizing well to unseen data.\n",
        "\n",
        "**Possible Observations and Considerations:**\n",
        ">**Overfitting:** The high training accuracy raises the concern of potential overfitting, especially if the validation accuracy does not improve or starts degrading. It might be useful applying regularization techniques (e.g., dropout, L2 regularization) or reducing model complexity to mitigate overfitting.\n",
        "\n",
        ">**Plateau in Validation Accuracy:** The plateau in validation accuracy around 0.91 suggests that the model may have reached its optimal performance on the validation set. This is not necessarily a problem, but it's worth investigating whether further improvements can be made, such as adjusting model architecture or hyperparameters.\n",
        "\n",
        ">A learning rate that is too high could cause the model to oscillate or fail to converge, while a too-low learning rate could slow down the learning process.\n",
        "\n",
        "**Possible Improvements:**\n",
        ">**Regularization:** Experiments with dropout layers should be performed, batch normalization, or other regularization techniques to reduce overfitting. This will require some computational time but it needs to be evaluated if the model wants to be improved.\n",
        "\n",
        ">**Learning Rate Schedule:** Implementing a learning rate schedule to adaptively adjust the learning rate during training. This can help with convergence and stability.\n",
        "\n",
        ">**Model Complexity:** Evaluating whether the model is too complex for the given data. Reducing the number of layers or neurons might help prevent overfitting.\n",
        "\n",
        "\n",
        "**Conclusion:**\n",
        "Finally overall, the model's ability to quickly achieve high accuracy is positive, but attention should be paid to potential overfitting and the stabilization of the validation accuracy. Fine-tuning hyperparameters and experimenting with model modifications can help achieve the best balance between training and validation performance. The CNN models (both) improved things from using an ANN model and the last CNN model is the one that \"wins the race\" in best performance. This is the model I will use."
      ]
    },
    {
      "cell_type": "markdown",
      "metadata": {
        "id": "kja4SnOdAjQI"
      },
      "source": [
        "## **Predictions on the test data**\n",
        "\n",
        "- Make predictions on the test set using the second model.\n",
        "- Print the obtained results using the classification report and the confusion matrix.\n",
        "- Final observations on the obtained results."
      ]
    },
    {
      "cell_type": "markdown",
      "metadata": {
        "id": "eHCRwRbgKDN2"
      },
      "source": [
        "### **Make predictions on the test data using the second model.**"
      ]
    },
    {
      "cell_type": "code",
      "execution_count": null,
      "metadata": {
        "id": "f1d-VvaLAjQI",
        "colab": {
          "base_uri": "https://localhost:8080/"
        },
        "outputId": "72b36420-2bfe-4179-bc6f-712ba64d3ff7"
      },
      "outputs": [
        {
          "output_type": "stream",
          "name": "stdout",
          "text": [
            "563/563 [==============================] - 26s 46ms/step\n"
          ]
        }
      ],
      "source": [
        "# We can use the .predict method to make our predictions.\n",
        "test_pred = cnn_model_2.predict(X_test)\n",
        "\n",
        "test_pred = np.argmax(test_pred, axis = -1)"
      ]
    },
    {
      "cell_type": "markdown",
      "metadata": {
        "id": "DrV1tOG0AjQI"
      },
      "source": [
        "**Note:** Earlier, we noticed that each entry of the target variable is a one-hot encoded vector, but to print the classification report and confusion matrix, we must convert each entry of y_test to a single label."
      ]
    },
    {
      "cell_type": "code",
      "execution_count": null,
      "metadata": {
        "id": "dUSHU9W0AjQI"
      },
      "outputs": [],
      "source": [
        "# Converts back to the original labels from the matrix coded by one-hot-encoding.\n",
        "y_test = np.argmax(y_test, axis = -1)"
      ]
    },
    {
      "cell_type": "markdown",
      "metadata": {
        "id": "aVCa-ysWKDN3"
      },
      "source": [
        "### **Write your final observations on the performance of the model on the test data.**"
      ]
    },
    {
      "cell_type": "code",
      "execution_count": null,
      "metadata": {
        "id": "sOMq2rCJAjQJ",
        "colab": {
          "base_uri": "https://localhost:8080/",
          "height": 760
        },
        "outputId": "4e5610ba-7ee6-43b8-87cf-d4d76794d08a"
      },
      "outputs": [
        {
          "output_type": "stream",
          "name": "stdout",
          "text": [
            "              precision    recall  f1-score   support\n",
            "\n",
            "           0       0.89      0.95      0.92      1814\n",
            "           1       0.92      0.89      0.91      1828\n",
            "           2       0.93      0.91      0.92      1803\n",
            "           3       0.91      0.88      0.90      1719\n",
            "           4       0.96      0.90      0.93      1812\n",
            "           5       0.91      0.91      0.91      1768\n",
            "           6       0.92      0.88      0.90      1832\n",
            "           7       0.92      0.94      0.93      1808\n",
            "           8       0.87      0.91      0.89      1812\n",
            "           9       0.88      0.93      0.90      1804\n",
            "\n",
            "    accuracy                           0.91     18000\n",
            "   macro avg       0.91      0.91      0.91     18000\n",
            "weighted avg       0.91      0.91      0.91     18000\n",
            "\n"
          ]
        },
        {
          "output_type": "display_data",
          "data": {
            "text/plain": [
              "<Figure size 800x500 with 2 Axes>"
            ],
            "image/png": "[encoded data removed]"
          },
          "metadata": {}
        }
      ],
      "source": [
        "# Printing the classification report using the sklearn method.\n",
        "print(classification_report(y_test, test_pred))\n",
        "\n",
        "# Plotting the heatmap using confusion matrix using another sklearn method.\n",
        "cm = confusion_matrix(y_test, test_pred)\n",
        "\n",
        "# Plots the confusion matrix\n",
        "plt.figure(figsize = (8, 5))\n",
        "\n",
        "# Uses seaborn library to show the heatmap\n",
        "sns.heatmap(cm, annot = True,  fmt = '.0f')\n",
        "\n",
        "# Assigns label to the y axis\n",
        "plt.ylabel('Actual')\n",
        "\n",
        "# Assigns label to the x axis\n",
        "plt.xlabel('Predicted')\n",
        "\n",
        "# Plots the result.\n",
        "plt.show()"
      ]
    },
    {
      "cell_type": "markdown",
      "metadata": {
        "id": "TNN9v713AjQJ"
      },
      "source": [
        "**Final Observations:**\n",
        "\n",
        "**Precision, Recall, and F1-Score:**\n",
        "\n",
        "**Precision:** This new model performs much better! it has a high lever of accuracy, for example for class 0, 89% of the instances predicted as 0 were actually 0 and for class 4 it goes up to 96% of accuracy which is close to perfection.\n",
        "\n",
        "\n",
        "\n",
        "**Recall:** Recall is also great. For instance, for class 0, 95% of the actual instances of 0 were correctly predicted.\n",
        "\n",
        "\n",
        "\n",
        "**F1-Score:** Also great results! For instance, for classes 4 and 7, the F1-score is 0.93 (93%), indicating a good balance between precision and recall.\n",
        "\n",
        "\n",
        "\n",
        "**Support:** This is the number of actual occurrences of each class in the specified dataset. For instance, there are 1814 instances of class 0 in the dataset.\n",
        "\n",
        "\n",
        "\n",
        "\n",
        "**Accuracy**: The overall accuracy of this model across all classes is 91%, meaning it correctly classified 91% of the instances which is a pretty good result especially if compared to the other models we have used.\n",
        "\n",
        "\n",
        "\n",
        "**Macro and Weighted Averages:** The average precision, recall, and F1-score calculated independently for each class and then averaged. This metric gives equal weight to each class.\n",
        "\n",
        "\n",
        "\n",
        "**Weighted Avg:** Similar to the macro average, but it takes into account the number of instances of each class. This provides an average that is weighted by the number of instances in each class.\n",
        "\n",
        "\n",
        "\n",
        "**Final Interpretation:**\n",
        "The model seems to perform well, with high precision, recall, and F1-scores for most classes.\n",
        "The macro and weighted averages are also high, indicating good overall performance.\n",
        "The model is particularly good at distinguishing between classes 0, 1, 2, 4, and 7.\n",
        "It performs slightly less well on classes 8 and 9, with lower precision and recall.\n",
        "\n",
        "\n",
        "\n",
        "\n",
        "**Possible Improvements:**\n",
        "\n",
        "We should investigate further why the model is performing less well on certain classes. This could involve exploring the dataset, examining misclassified instances, and potentially adjusting the model architecture or training parameters.\n",
        "\n",
        "Experimenting with different model architectures, hyperparameters, or even exploring more advanced techniques like ensemble methods could be useful to potentially improve performance further.\n",
        "\n",
        "\n",
        "\n",
        "Overall, this last CNN model, surpassess the other ones we used.\n",
        "\n",
        "A classification report with high precision, recall, and F1-scores, especially on a dataset with multiple classes, is a positive sign, and the model appears to be doing a great job. I would pick this model out of the other ones.\n",
        "\n",
        "\n",
        "\n",
        "\n",
        "\n"
      ]
    }
  ],
  "metadata": {
    "accelerator": "TPU",
    "colab": {
      "provenance": []
    },
    "kernelspec": {
      "display_name": "Python 3 (ipykernel)",
      "language": "python",
      "name": "python3"
    },
    "language_info": {
      "codemirror_mode": {
        "name": "ipython",
        "version": 3
      },
      "file_extension": ".py",
      "mimetype": "text/x-python",
      "name": "python",
      "nbconvert_exporter": "python",
      "pygments_lexer": "ipython3",
      "version": "3.9.7"
    }
  },
  "nbformat": 4,
  "nbformat_minor": 0
}